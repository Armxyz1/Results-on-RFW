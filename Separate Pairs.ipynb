{
 "cells": [
  {
   "cell_type": "code",
   "execution_count": 4,
   "metadata": {},
   "outputs": [],
   "source": [
    "import numpy as np"
   ]
  },
  {
   "cell_type": "code",
   "execution_count": 5,
   "metadata": {},
   "outputs": [],
   "source": [
    "races = ['African','Asian','Caucasian','Indian']\n",
    "genders = ['Man','Woman']\n",
    "models = ['AdaFace','ArcFace','ElasticFace','GhostFace','SphereFace']"
   ]
  },
  {
   "cell_type": "code",
   "execution_count": 6,
   "metadata": {},
   "outputs": [],
   "source": [
    "for race in races:\n",
    "    for gender in genders:\n",
    "        pairs = {}\n",
    "        for model in models:\n",
    "            with open(f'{model}/results/{race}_{gender}_results.csv','r') as f:\n",
    "                lines = f.readlines()\n",
    "            pairs[f\"{model}\"] = [line.strip().split(',') for line in lines]\n",
    "        for i in range(len(pairs['AdaFace'])):\n",
    "            val = 0\n",
    "            for model in models:\n",
    "                val += int(pairs[model][i][2]==pairs[model][i][3])\n",
    "            if val<3:\n",
    "                with open(f\"./Pairs/Dist/{race}_{gender}_hard_pairs.csv\",'a') as f:\n",
    "                    f.write(f\"{pairs['AdaFace'][i][0]},{pairs['AdaFace'][i][1]}\\n\")\n",
    "            else:\n",
    "                with open(f\"./Pairs/Dist/{race}_{gender}_easy_pairs.csv\",'a') as f:\n",
    "                    f.write(f\"{pairs['AdaFace'][i][0]},{pairs['AdaFace'][i][1]}\\n\")"
   ]
  }
 ],
 "metadata": {
  "kernelspec": {
   "display_name": "Python 3",
   "language": "python",
   "name": "python3"
  },
  "language_info": {
   "codemirror_mode": {
    "name": "ipython",
    "version": 3
   },
   "file_extension": ".py",
   "mimetype": "text/x-python",
   "name": "python",
   "nbconvert_exporter": "python",
   "pygments_lexer": "ipython3",
   "version": "3.10.12"
  }
 },
 "nbformat": 4,
 "nbformat_minor": 2
}
