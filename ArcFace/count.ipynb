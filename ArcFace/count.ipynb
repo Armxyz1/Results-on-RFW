{
 "cells": [
  {
   "cell_type": "code",
   "execution_count": 1,
   "metadata": {},
   "outputs": [],
   "source": [
    "import torch\n",
    "import os\n",
    "import numpy as np\n",
    "from tqdm import tqdm\n",
    "from sklearn.metrics import roc_curve"
   ]
  },
  {
   "cell_type": "code",
   "execution_count": 2,
   "metadata": {},
   "outputs": [],
   "source": [
    "from shutil import copy2"
   ]
  },
  {
   "cell_type": "code",
   "execution_count": 3,
   "metadata": {},
   "outputs": [],
   "source": [
    "import matplotlib.pyplot as plt"
   ]
  },
  {
   "cell_type": "code",
   "execution_count": 4,
   "metadata": {},
   "outputs": [],
   "source": [
    "races = ['African','Asian','Caucasian','Indian']\n",
    "genders = ['Man','Woman']\n",
    "labels = []\n",
    "dist = []\n",
    "for race in races:\n",
    "    for gender in genders:\n",
    "        with open(f\"./sims/{race}_{gender}_sims.csv\",'r') as f:\n",
    "            lines = f.readlines()\n",
    "        for line in lines:\n",
    "            arr = line.strip().split(',')\n",
    "            labels.append(int(arr[3]))\n",
    "            dist.append(float(arr[2]))"
   ]
  },
  {
   "cell_type": "code",
   "execution_count": 5,
   "metadata": {},
   "outputs": [
    {
     "name": "stdout",
     "output_type": "stream",
     "text": [
      "Threshold: 0.3287125527858734\n"
     ]
    }
   ],
   "source": [
    "fpr , tpr ,thresholds = roc_curve(labels,dist)\n",
    "idx = np.argmax(tpr-fpr)\n",
    "threshold = thresholds[idx]\n",
    "print(f\"Threshold: {threshold}\")"
   ]
  },
  {
   "cell_type": "code",
   "execution_count": 6,
   "metadata": {},
   "outputs": [],
   "source": [
    "races = ['African','Asian','Caucasian','Indian']\n",
    "genders = ['Man','Woman']\n",
    "accuracies = {}\n",
    "for race in races:\n",
    "    for gender in genders:\n",
    "        accuracies[f\"{race}_{gender}\"] = {'TP':0,'TN':0,'FP':0,'FN':0}\n",
    "        with open(f\"./sims/{race}_{gender}_sims.csv\",'r') as f:\n",
    "            lines = f.readlines()\n",
    "        dist = []\n",
    "        labels = []\n",
    "        for line in lines:\n",
    "            arr = line.strip().split(',')\n",
    "            dist.append(float(arr[2]))\n",
    "            labels.append(int(arr[3]))\n",
    "            if float(arr[2]) < threshold:\n",
    "                with open(f\"./results/{race}_{gender}_results.csv\",'a') as f:\n",
    "                    f.write(f\"{arr[0]},{arr[1]},0,{arr[3]}\\n\")\n",
    "                if int(arr[3]) == 1:\n",
    "                    accuracies[f\"{race}_{gender}\"]['TN'] += 1\n",
    "                else:\n",
    "                    accuracies[f\"{race}_{gender}\"]['FN'] += 1\n",
    "            else:\n",
    "                with open(f\"./results/{race}_{gender}_results.csv\",'a') as f:\n",
    "                    f.write(f\"{arr[0]},{arr[1]},1,{arr[3]}\\n\")\n",
    "                if int(arr[3]) == 1:\n",
    "                    accuracies[f\"{race}_{gender}\"]['TP'] += 1\n",
    "                else:\n",
    "                    accuracies[f\"{race}_{gender}\"]['FP'] += 1\n",
    "        fpr, tpr, thresholds = roc_curve(labels,dist)\n",
    "        fpr = np.array(fpr)\n",
    "        tpr = np.array(tpr)\n",
    "        with open(f\"./roc/{race}_{gender}_roc.npy\",'wb') as f:\n",
    "            np.save(f,fpr)\n",
    "            np.save(f,tpr)"
   ]
  },
  {
   "cell_type": "code",
   "execution_count": 7,
   "metadata": {},
   "outputs": [
    {
     "name": "stdout",
     "output_type": "stream",
     "text": [
      "{'African_Man': {'TP': 2825, 'TN': 114, 'FP': 115, 'FN': 2825}, 'African_Woman': {'TP': 53, 'TN': 8, 'FP': 1, 'FN': 59}, 'Asian_Man': {'TP': 2049, 'TN': 79, 'FP': 78, 'FN': 2053}, 'Asian_Woman': {'TP': 808, 'TN': 64, 'FP': 26, 'FN': 843}, 'Caucasian_Man': {'TP': 2188, 'TN': 65, 'FP': 2, 'FN': 2250}, 'Caucasian_Woman': {'TP': 717, 'TN': 30, 'FP': 2, 'FN': 746}, 'Indian_Man': {'TP': 2245, 'TN': 70, 'FP': 61, 'FN': 2256}, 'Indian_Woman': {'TP': 657, 'TN': 28, 'FP': 15, 'FN': 667}}\n"
     ]
    }
   ],
   "source": [
    "print(accuracies)"
   ]
  },
  {
   "cell_type": "code",
   "execution_count": 8,
   "metadata": {},
   "outputs": [],
   "source": [
    "gar = {}\n",
    "far = {}\n",
    "scores = {}\n",
    "for race in races:\n",
    "    for gender in genders:\n",
    "        tp = accuracies[f\"{race}_{gender}\"]['TP']\n",
    "        tn = accuracies[f\"{race}_{gender}\"]['TN']\n",
    "        fp = accuracies[f\"{race}_{gender}\"]['FP']\n",
    "        fn = accuracies[f\"{race}_{gender}\"]['FN']\n",
    "        gar[f\"{race}_{gender}\"] = tp/(tn+tp)\n",
    "        far[f\"{race}_{gender}\"] = fp/(fn+fp)\n",
    "        scores[f\"{race}_{gender}\"] = 100*(fn+tp)/(fn+fp+tn+tp)"
   ]
  },
  {
   "cell_type": "code",
   "execution_count": 9,
   "metadata": {},
   "outputs": [
    {
     "data": {
      "text/plain": [
       "{'African_Man': 0.9612112963593059,\n",
       " 'African_Woman': 0.8688524590163934,\n",
       " 'Asian_Man': 0.962875939849624,\n",
       " 'Asian_Woman': 0.926605504587156,\n",
       " 'Caucasian_Man': 0.9711495783399912,\n",
       " 'Caucasian_Woman': 0.9598393574297188,\n",
       " 'Indian_Man': 0.9697624190064795,\n",
       " 'Indian_Woman': 0.9591240875912409}"
      ]
     },
     "execution_count": 9,
     "metadata": {},
     "output_type": "execute_result"
    }
   ],
   "source": [
    "gar"
   ]
  },
  {
   "cell_type": "code",
   "execution_count": 10,
   "metadata": {},
   "outputs": [
    {
     "data": {
      "text/plain": [
       "{'African_Man': 0.0391156462585034,\n",
       " 'African_Woman': 0.016666666666666666,\n",
       " 'Asian_Man': 0.03660253402158611,\n",
       " 'Asian_Woman': 0.02991944764096663,\n",
       " 'Caucasian_Man': 0.0008880994671403197,\n",
       " 'Caucasian_Woman': 0.00267379679144385,\n",
       " 'Indian_Man': 0.026327147173068624,\n",
       " 'Indian_Woman': 0.021994134897360705}"
      ]
     },
     "execution_count": 10,
     "metadata": {},
     "output_type": "execute_result"
    }
   ],
   "source": [
    "far"
   ]
  },
  {
   "cell_type": "code",
   "execution_count": 11,
   "metadata": {},
   "outputs": [
    {
     "data": {
      "text/plain": [
       "{'African_Man': 96.10477972444293,\n",
       " 'African_Woman': 92.56198347107438,\n",
       " 'Asian_Man': 96.31368865930969,\n",
       " 'Asian_Woman': 94.8305571510626,\n",
       " 'Caucasian_Man': 98.51276359600443,\n",
       " 'Caucasian_Woman': 97.85953177257525,\n",
       " 'Indian_Man': 97.17184801381693,\n",
       " 'Indian_Woman': 96.85442574981712}"
      ]
     },
     "execution_count": 11,
     "metadata": {},
     "output_type": "execute_result"
    }
   ],
   "source": [
    "scores"
   ]
  }
 ],
 "metadata": {
  "kernelspec": {
   "display_name": "Python 3",
   "language": "python",
   "name": "python3"
  },
  "language_info": {
   "codemirror_mode": {
    "name": "ipython",
    "version": 3
   },
   "file_extension": ".py",
   "mimetype": "text/x-python",
   "name": "python",
   "nbconvert_exporter": "python",
   "pygments_lexer": "ipython3",
   "version": "3.10.12"
  }
 },
 "nbformat": 4,
 "nbformat_minor": 2
}
