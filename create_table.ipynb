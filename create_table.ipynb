{
 "cells": [
  {
   "cell_type": "code",
   "execution_count": 127,
   "metadata": {},
   "outputs": [],
   "source": [
    "import pandas as pd\n",
    "import numpy as np"
   ]
  },
  {
   "cell_type": "code",
   "execution_count": 128,
   "metadata": {},
   "outputs": [],
   "source": [
    "races = ['African','Asian','Caucasian','Indian']\n",
    "genders = ['Man','Woman']\n",
    "models = ['AdaFace','ArcFace','ElasticFace','GhostFace','SphereFace']"
   ]
  },
  {
   "cell_type": "code",
   "execution_count": 129,
   "metadata": {},
   "outputs": [],
   "source": [
    "df = pd.DataFrame(columns=models,index = [j+'_'+i for j in races for i in genders] + [' '] + races).astype('float')"
   ]
  },
  {
   "cell_type": "code",
   "execution_count": 130,
   "metadata": {},
   "outputs": [],
   "source": [
    "def tpr_at_fpr(fpr, tpr, fpr_threshold):\n",
    "    return \"{:.2e}\".format(tpr[np.argmin(np.abs(fpr - fpr_threshold))])"
   ]
  },
  {
   "cell_type": "code",
   "execution_count": 131,
   "metadata": {},
   "outputs": [],
   "source": [
    "for model in models:\n",
    "    val = []\n",
    "    for race in races:\n",
    "        for gender in genders:\n",
    "            with open(f'{model}/roc/{race}_{gender}_roc.npy','rb') as f:\n",
    "                fpr  = np.load(f)\n",
    "                tpr  = np.load(f)\n",
    "            val.append(tpr_at_fpr(fpr, tpr, 0.001))\n",
    "    val.append(' ')\n",
    "    for race in races:\n",
    "        with open(f'{model}/roc/{race}_roc.npy','rb') as f:\n",
    "                    fpr  = np.load(f)\n",
    "                    tpr  = np.load(f)\n",
    "        val.append(tpr_at_fpr(fpr, tpr, 0.001))\n",
    "    df[model] = val"
   ]
  },
  {
   "cell_type": "code",
   "execution_count": 132,
   "metadata": {},
   "outputs": [
    {
     "data": {
      "text/html": [
       "<style type=\"text/css\">\n",
       "#T_42146_row8_col0, #T_42146_row8_col1, #T_42146_row8_col2, #T_42146_row8_col3, #T_42146_row8_col4 {\n",
       "  background-color: white;\n",
       "}\n",
       "</style>\n",
       "<table id=\"T_42146\">\n",
       "  <thead>\n",
       "    <tr>\n",
       "      <th class=\"blank level0\" >&nbsp;</th>\n",
       "      <th id=\"T_42146_level0_col0\" class=\"col_heading level0 col0\" >AdaFace</th>\n",
       "      <th id=\"T_42146_level0_col1\" class=\"col_heading level0 col1\" >ArcFace</th>\n",
       "      <th id=\"T_42146_level0_col2\" class=\"col_heading level0 col2\" >ElasticFace</th>\n",
       "      <th id=\"T_42146_level0_col3\" class=\"col_heading level0 col3\" >GhostFace</th>\n",
       "      <th id=\"T_42146_level0_col4\" class=\"col_heading level0 col4\" >SphereFace</th>\n",
       "    </tr>\n",
       "  </thead>\n",
       "  <tbody>\n",
       "    <tr>\n",
       "      <th id=\"T_42146_level0_row0\" class=\"row_heading level0 row0\" >African_Man</th>\n",
       "      <td id=\"T_42146_row0_col0\" class=\"data row0 col0\" >9.88e-01</td>\n",
       "      <td id=\"T_42146_row0_col1\" class=\"data row0 col1\" >9.09e-01</td>\n",
       "      <td id=\"T_42146_row0_col2\" class=\"data row0 col2\" >9.48e-01</td>\n",
       "      <td id=\"T_42146_row0_col3\" class=\"data row0 col3\" >1.43e-02</td>\n",
       "      <td id=\"T_42146_row0_col4\" class=\"data row0 col4\" >3.13e-01</td>\n",
       "    </tr>\n",
       "    <tr>\n",
       "      <th id=\"T_42146_level0_row1\" class=\"row_heading level0 row1\" >African_Woman</th>\n",
       "      <td id=\"T_42146_row1_col0\" class=\"data row1 col0\" >9.84e-01</td>\n",
       "      <td id=\"T_42146_row1_col1\" class=\"data row1 col1\" >8.69e-01</td>\n",
       "      <td id=\"T_42146_row1_col2\" class=\"data row1 col2\" >9.18e-01</td>\n",
       "      <td id=\"T_42146_row1_col3\" class=\"data row1 col3\" >1.64e-02</td>\n",
       "      <td id=\"T_42146_row1_col4\" class=\"data row1 col4\" >3.77e-01</td>\n",
       "    </tr>\n",
       "    <tr>\n",
       "      <th id=\"T_42146_level0_row2\" class=\"row_heading level0 row2\" >Asian_Man</th>\n",
       "      <td id=\"T_42146_row2_col0\" class=\"data row2 col0\" >9.82e-01</td>\n",
       "      <td id=\"T_42146_row2_col1\" class=\"data row2 col1\" >9.08e-01</td>\n",
       "      <td id=\"T_42146_row2_col2\" class=\"data row2 col2\" >9.46e-01</td>\n",
       "      <td id=\"T_42146_row2_col3\" class=\"data row2 col3\" >2.02e-02</td>\n",
       "      <td id=\"T_42146_row2_col4\" class=\"data row2 col4\" >3.92e-01</td>\n",
       "    </tr>\n",
       "    <tr>\n",
       "      <th id=\"T_42146_level0_row3\" class=\"row_heading level0 row3\" >Asian_Woman</th>\n",
       "      <td id=\"T_42146_row3_col0\" class=\"data row3 col0\" >9.53e-01</td>\n",
       "      <td id=\"T_42146_row3_col1\" class=\"data row3 col1\" >8.66e-01</td>\n",
       "      <td id=\"T_42146_row3_col2\" class=\"data row3 col2\" >9.27e-01</td>\n",
       "      <td id=\"T_42146_row3_col3\" class=\"data row3 col3\" >2.98e-02</td>\n",
       "      <td id=\"T_42146_row3_col4\" class=\"data row3 col4\" >3.58e-01</td>\n",
       "    </tr>\n",
       "    <tr>\n",
       "      <th id=\"T_42146_level0_row4\" class=\"row_heading level0 row4\" >Caucasian_Man</th>\n",
       "      <td id=\"T_42146_row4_col0\" class=\"data row4 col0\" >9.94e-01</td>\n",
       "      <td id=\"T_42146_row4_col1\" class=\"data row4 col1\" >9.84e-01</td>\n",
       "      <td id=\"T_42146_row4_col2\" class=\"data row4 col2\" >9.87e-01</td>\n",
       "      <td id=\"T_42146_row4_col3\" class=\"data row4 col3\" >2.62e-02</td>\n",
       "      <td id=\"T_42146_row4_col4\" class=\"data row4 col4\" >6.45e-01</td>\n",
       "    </tr>\n",
       "    <tr>\n",
       "      <th id=\"T_42146_level0_row5\" class=\"row_heading level0 row5\" >Caucasian_Woman</th>\n",
       "      <td id=\"T_42146_row5_col0\" class=\"data row5 col0\" >9.92e-01</td>\n",
       "      <td id=\"T_42146_row5_col1\" class=\"data row5 col1\" >9.81e-01</td>\n",
       "      <td id=\"T_42146_row5_col2\" class=\"data row5 col2\" >9.87e-01</td>\n",
       "      <td id=\"T_42146_row5_col3\" class=\"data row5 col3\" >1.07e-02</td>\n",
       "      <td id=\"T_42146_row5_col4\" class=\"data row5 col4\" >6.27e-01</td>\n",
       "    </tr>\n",
       "    <tr>\n",
       "      <th id=\"T_42146_level0_row6\" class=\"row_heading level0 row6\" >Indian_Man</th>\n",
       "      <td id=\"T_42146_row6_col0\" class=\"data row6 col0\" >9.81e-01</td>\n",
       "      <td id=\"T_42146_row6_col1\" class=\"data row6 col1\" >9.49e-01</td>\n",
       "      <td id=\"T_42146_row6_col2\" class=\"data row6 col2\" >9.57e-01</td>\n",
       "      <td id=\"T_42146_row6_col3\" class=\"data row6 col3\" >2.03e-02</td>\n",
       "      <td id=\"T_42146_row6_col4\" class=\"data row6 col4\" >5.11e-01</td>\n",
       "    </tr>\n",
       "    <tr>\n",
       "      <th id=\"T_42146_level0_row7\" class=\"row_heading level0 row7\" >Indian_Woman</th>\n",
       "      <td id=\"T_42146_row7_col0\" class=\"data row7 col0\" >9.65e-01</td>\n",
       "      <td id=\"T_42146_row7_col1\" class=\"data row7 col1\" >9.36e-01</td>\n",
       "      <td id=\"T_42146_row7_col2\" class=\"data row7 col2\" >9.56e-01</td>\n",
       "      <td id=\"T_42146_row7_col3\" class=\"data row7 col3\" >2.19e-02</td>\n",
       "      <td id=\"T_42146_row7_col4\" class=\"data row7 col4\" >4.09e-01</td>\n",
       "    </tr>\n",
       "    <tr>\n",
       "      <th id=\"T_42146_level0_row8\" class=\"row_heading level0 row8\" > </th>\n",
       "      <td id=\"T_42146_row8_col0\" class=\"data row8 col0\" > </td>\n",
       "      <td id=\"T_42146_row8_col1\" class=\"data row8 col1\" > </td>\n",
       "      <td id=\"T_42146_row8_col2\" class=\"data row8 col2\" > </td>\n",
       "      <td id=\"T_42146_row8_col3\" class=\"data row8 col3\" > </td>\n",
       "      <td id=\"T_42146_row8_col4\" class=\"data row8 col4\" > </td>\n",
       "    </tr>\n",
       "    <tr>\n",
       "      <th id=\"T_42146_level0_row9\" class=\"row_heading level0 row9\" >African</th>\n",
       "      <td id=\"T_42146_row9_col0\" class=\"data row9 col0\" >9.87e-01</td>\n",
       "      <td id=\"T_42146_row9_col1\" class=\"data row9 col1\" >9.09e-01</td>\n",
       "      <td id=\"T_42146_row9_col2\" class=\"data row9 col2\" >9.48e-01</td>\n",
       "      <td id=\"T_42146_row9_col3\" class=\"data row9 col3\" >1.57e-02</td>\n",
       "      <td id=\"T_42146_row9_col4\" class=\"data row9 col4\" >3.14e-01</td>\n",
       "    </tr>\n",
       "    <tr>\n",
       "      <th id=\"T_42146_level0_row10\" class=\"row_heading level0 row10\" >Asian</th>\n",
       "      <td id=\"T_42146_row10_col0\" class=\"data row10 col0\" >9.74e-01</td>\n",
       "      <td id=\"T_42146_row10_col1\" class=\"data row10 col1\" >8.88e-01</td>\n",
       "      <td id=\"T_42146_row10_col2\" class=\"data row10 col2\" >9.37e-01</td>\n",
       "      <td id=\"T_42146_row10_col3\" class=\"data row10 col3\" >2.37e-02</td>\n",
       "      <td id=\"T_42146_row10_col4\" class=\"data row10 col4\" >3.86e-01</td>\n",
       "    </tr>\n",
       "    <tr>\n",
       "      <th id=\"T_42146_level0_row11\" class=\"row_heading level0 row11\" >Caucasian</th>\n",
       "      <td id=\"T_42146_row11_col0\" class=\"data row11 col0\" >9.93e-01</td>\n",
       "      <td id=\"T_42146_row11_col1\" class=\"data row11 col1\" >9.83e-01</td>\n",
       "      <td id=\"T_42146_row11_col2\" class=\"data row11 col2\" >9.87e-01</td>\n",
       "      <td id=\"T_42146_row11_col3\" class=\"data row11 col3\" >2.27e-02</td>\n",
       "      <td id=\"T_42146_row11_col4\" class=\"data row11 col4\" >6.51e-01</td>\n",
       "    </tr>\n",
       "    <tr>\n",
       "      <th id=\"T_42146_level0_row12\" class=\"row_heading level0 row12\" >Indian</th>\n",
       "      <td id=\"T_42146_row12_col0\" class=\"data row12 col0\" >9.77e-01</td>\n",
       "      <td id=\"T_42146_row12_col1\" class=\"data row12 col1\" >9.46e-01</td>\n",
       "      <td id=\"T_42146_row12_col2\" class=\"data row12 col2\" >9.58e-01</td>\n",
       "      <td id=\"T_42146_row12_col3\" class=\"data row12 col3\" >2.23e-02</td>\n",
       "      <td id=\"T_42146_row12_col4\" class=\"data row12 col4\" >4.90e-01</td>\n",
       "    </tr>\n",
       "  </tbody>\n",
       "</table>\n"
      ],
      "text/plain": [
       "<pandas.io.formats.style.Styler at 0x7c24b7282da0>"
      ]
     },
     "execution_count": 132,
     "metadata": {},
     "output_type": "execute_result"
    }
   ],
   "source": [
    "df.style.map(lambda _: \"background-color: white\", subset=(df.index[8],))\n"
   ]
  }
 ],
 "metadata": {
  "kernelspec": {
   "display_name": "Python 3",
   "language": "python",
   "name": "python3"
  },
  "language_info": {
   "codemirror_mode": {
    "name": "ipython",
    "version": 3
   },
   "file_extension": ".py",
   "mimetype": "text/x-python",
   "name": "python",
   "nbconvert_exporter": "python",
   "pygments_lexer": "ipython3",
   "version": "3.10.12"
  }
 },
 "nbformat": 4,
 "nbformat_minor": 2
}
