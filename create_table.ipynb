{
 "cells": [
  {
   "cell_type": "code",
   "execution_count": 24,
   "metadata": {},
   "outputs": [],
   "source": [
    "import pandas as pd\n",
    "import numpy as np"
   ]
  },
  {
   "cell_type": "code",
   "execution_count": 25,
   "metadata": {},
   "outputs": [],
   "source": [
    "races = ['African','Asian','Caucasian','Indian']\n",
    "genders = ['Man','Woman']\n",
    "models = ['AdaFace','ArcFace','ElasticFace','GhostFace','SphereFace']"
   ]
  },
  {
   "cell_type": "code",
   "execution_count": 26,
   "metadata": {},
   "outputs": [],
   "source": [
    "df = pd.DataFrame(columns=models,index = [j+'_'+i for j in races for i in genders] + [' '] + races)"
   ]
  },
  {
   "cell_type": "code",
   "execution_count": 27,
   "metadata": {},
   "outputs": [],
   "source": [
    "def tpr_at_fpr(fpr, tpr, fpr_threshold):\n",
    "    return \"{:.2e}\".format(tpr[np.argmin(np.abs(fpr - fpr_threshold))])"
   ]
  },
  {
   "cell_type": "code",
   "execution_count": 28,
   "metadata": {},
   "outputs": [],
   "source": [
    "for model in models:\n",
    "    val = []\n",
    "    for race in races:\n",
    "        for gender in genders:\n",
    "            with open(f'{model}/roc/{race}_{gender}_roc.npy','rb') as f:\n",
    "                fpr  = np.load(f)\n",
    "                tpr  = np.load(f)\n",
    "            val.append(tpr_at_fpr(fpr, tpr, 0.001))\n",
    "    val.append(' ')\n",
    "    for race in races:\n",
    "        with open(f'{model}/roc/{race}_roc.npy','rb') as f:\n",
    "                    fpr  = np.load(f)\n",
    "                    tpr  = np.load(f)\n",
    "        val.append(tpr_at_fpr(fpr, tpr, 0.001))\n",
    "    df[model] = val"
   ]
  },
  {
   "cell_type": "code",
   "execution_count": 40,
   "metadata": {},
   "outputs": [
    {
     "data": {
      "text/html": [
       "<style type=\"text/css\">\n",
       "#T_16bc6 th {\n",
       "  text-align: center;\n",
       "}\n",
       "#T_16bc6_row0_col0, #T_16bc6_row0_col1, #T_16bc6_row0_col2, #T_16bc6_row0_col3, #T_16bc6_row0_col4, #T_16bc6_row1_col0, #T_16bc6_row1_col1, #T_16bc6_row1_col2, #T_16bc6_row1_col3, #T_16bc6_row1_col4, #T_16bc6_row2_col0, #T_16bc6_row2_col1, #T_16bc6_row2_col2, #T_16bc6_row2_col3, #T_16bc6_row2_col4, #T_16bc6_row3_col0, #T_16bc6_row3_col1, #T_16bc6_row3_col2, #T_16bc6_row3_col3, #T_16bc6_row3_col4, #T_16bc6_row4_col0, #T_16bc6_row4_col1, #T_16bc6_row4_col2, #T_16bc6_row4_col3, #T_16bc6_row4_col4, #T_16bc6_row5_col0, #T_16bc6_row5_col1, #T_16bc6_row5_col2, #T_16bc6_row5_col3, #T_16bc6_row5_col4, #T_16bc6_row6_col0, #T_16bc6_row6_col1, #T_16bc6_row6_col2, #T_16bc6_row6_col3, #T_16bc6_row6_col4, #T_16bc6_row7_col0, #T_16bc6_row7_col1, #T_16bc6_row7_col2, #T_16bc6_row7_col3, #T_16bc6_row7_col4, #T_16bc6_row8_col0, #T_16bc6_row8_col1, #T_16bc6_row8_col2, #T_16bc6_row8_col3, #T_16bc6_row8_col4, #T_16bc6_row9_col0, #T_16bc6_row9_col1, #T_16bc6_row9_col2, #T_16bc6_row9_col3, #T_16bc6_row9_col4, #T_16bc6_row10_col0, #T_16bc6_row10_col1, #T_16bc6_row10_col2, #T_16bc6_row10_col3, #T_16bc6_row10_col4, #T_16bc6_row11_col0, #T_16bc6_row11_col1, #T_16bc6_row11_col2, #T_16bc6_row11_col3, #T_16bc6_row11_col4, #T_16bc6_row12_col0, #T_16bc6_row12_col1, #T_16bc6_row12_col2, #T_16bc6_row12_col3, #T_16bc6_row12_col4 {\n",
       "  text-align: center;\n",
       "  background-color: grey;\n",
       "}\n",
       "</style>\n",
       "<table id=\"T_16bc6\">\n",
       "  <thead>\n",
       "    <tr>\n",
       "      <th class=\"blank level0\" >&nbsp;</th>\n",
       "      <th id=\"T_16bc6_level0_col0\" class=\"col_heading level0 col0\" >AdaFace</th>\n",
       "      <th id=\"T_16bc6_level0_col1\" class=\"col_heading level0 col1\" >ArcFace</th>\n",
       "      <th id=\"T_16bc6_level0_col2\" class=\"col_heading level0 col2\" >ElasticFace</th>\n",
       "      <th id=\"T_16bc6_level0_col3\" class=\"col_heading level0 col3\" >GhostFace</th>\n",
       "      <th id=\"T_16bc6_level0_col4\" class=\"col_heading level0 col4\" >SphereFace</th>\n",
       "    </tr>\n",
       "  </thead>\n",
       "  <tbody>\n",
       "    <tr>\n",
       "      <th id=\"T_16bc6_level0_row0\" class=\"row_heading level0 row0\" >African_Man</th>\n",
       "      <td id=\"T_16bc6_row0_col0\" class=\"data row0 col0\" >9.61e-01</td>\n",
       "      <td id=\"T_16bc6_row0_col1\" class=\"data row0 col1\" >7.49e-01</td>\n",
       "      <td id=\"T_16bc6_row0_col2\" class=\"data row0 col2\" >8.29e-01</td>\n",
       "      <td id=\"T_16bc6_row0_col3\" class=\"data row0 col3\" >0.00e+00</td>\n",
       "      <td id=\"T_16bc6_row0_col4\" class=\"data row0 col4\" >8.78e-02</td>\n",
       "    </tr>\n",
       "    <tr>\n",
       "      <th id=\"T_16bc6_level0_row1\" class=\"row_heading level0 row1\" >African_Woman</th>\n",
       "      <td id=\"T_16bc6_row1_col0\" class=\"data row1 col0\" >0.00e+00</td>\n",
       "      <td id=\"T_16bc6_row1_col1\" class=\"data row1 col1\" >0.00e+00</td>\n",
       "      <td id=\"T_16bc6_row1_col2\" class=\"data row1 col2\" >0.00e+00</td>\n",
       "      <td id=\"T_16bc6_row1_col3\" class=\"data row1 col3\" >0.00e+00</td>\n",
       "      <td id=\"T_16bc6_row1_col4\" class=\"data row1 col4\" >0.00e+00</td>\n",
       "    </tr>\n",
       "    <tr>\n",
       "      <th id=\"T_16bc6_level0_row2\" class=\"row_heading level0 row2\" >Asian_Man</th>\n",
       "      <td id=\"T_16bc6_row2_col0\" class=\"data row2 col0\" >9.32e-01</td>\n",
       "      <td id=\"T_16bc6_row2_col1\" class=\"data row2 col1\" >7.33e-01</td>\n",
       "      <td id=\"T_16bc6_row2_col2\" class=\"data row2 col2\" >8.23e-01</td>\n",
       "      <td id=\"T_16bc6_row2_col3\" class=\"data row2 col3\" >2.35e-03</td>\n",
       "      <td id=\"T_16bc6_row2_col4\" class=\"data row2 col4\" >1.99e-01</td>\n",
       "    </tr>\n",
       "    <tr>\n",
       "      <th id=\"T_16bc6_level0_row3\" class=\"row_heading level0 row3\" >Asian_Woman</th>\n",
       "      <td id=\"T_16bc6_row3_col0\" class=\"data row3 col0\" >8.26e-01</td>\n",
       "      <td id=\"T_16bc6_row3_col1\" class=\"data row3 col1\" >7.31e-01</td>\n",
       "      <td id=\"T_16bc6_row3_col2\" class=\"data row3 col2\" >7.52e-01</td>\n",
       "      <td id=\"T_16bc6_row3_col3\" class=\"data row3 col3\" >6.88e-03</td>\n",
       "      <td id=\"T_16bc6_row3_col4\" class=\"data row3 col4\" >1.01e-01</td>\n",
       "    </tr>\n",
       "    <tr>\n",
       "      <th id=\"T_16bc6_level0_row4\" class=\"row_heading level0 row4\" >Caucasian_Man</th>\n",
       "      <td id=\"T_16bc6_row4_col0\" class=\"data row4 col0\" >9.81e-01</td>\n",
       "      <td id=\"T_16bc6_row4_col1\" class=\"data row4 col1\" >9.69e-01</td>\n",
       "      <td id=\"T_16bc6_row4_col2\" class=\"data row4 col2\" >9.61e-01</td>\n",
       "      <td id=\"T_16bc6_row4_col3\" class=\"data row4 col3\" >2.22e-03</td>\n",
       "      <td id=\"T_16bc6_row4_col4\" class=\"data row4 col4\" >2.90e-01</td>\n",
       "    </tr>\n",
       "    <tr>\n",
       "      <th id=\"T_16bc6_level0_row5\" class=\"row_heading level0 row5\" >Caucasian_Woman</th>\n",
       "      <td id=\"T_16bc6_row5_col0\" class=\"data row5 col0\" >8.49e-01</td>\n",
       "      <td id=\"T_16bc6_row5_col1\" class=\"data row5 col1\" >8.66e-01</td>\n",
       "      <td id=\"T_16bc6_row5_col2\" class=\"data row5 col2\" >9.60e-01</td>\n",
       "      <td id=\"T_16bc6_row5_col3\" class=\"data row5 col3\" >0.00e+00</td>\n",
       "      <td id=\"T_16bc6_row5_col4\" class=\"data row5 col4\" >4.83e-01</td>\n",
       "    </tr>\n",
       "    <tr>\n",
       "      <th id=\"T_16bc6_level0_row6\" class=\"row_heading level0 row6\" >Indian_Man</th>\n",
       "      <td id=\"T_16bc6_row6_col0\" class=\"data row6 col0\" >9.54e-01</td>\n",
       "      <td id=\"T_16bc6_row6_col1\" class=\"data row6 col1\" >8.57e-01</td>\n",
       "      <td id=\"T_16bc6_row6_col2\" class=\"data row6 col2\" >8.96e-01</td>\n",
       "      <td id=\"T_16bc6_row6_col3\" class=\"data row6 col3\" >5.18e-03</td>\n",
       "      <td id=\"T_16bc6_row6_col4\" class=\"data row6 col4\" >3.18e-01</td>\n",
       "    </tr>\n",
       "    <tr>\n",
       "      <th id=\"T_16bc6_level0_row7\" class=\"row_heading level0 row7\" >Indian_Woman</th>\n",
       "      <td id=\"T_16bc6_row7_col0\" class=\"data row7 col0\" >9.30e-01</td>\n",
       "      <td id=\"T_16bc6_row7_col1\" class=\"data row7 col1\" >8.16e-01</td>\n",
       "      <td id=\"T_16bc6_row7_col2\" class=\"data row7 col2\" >9.09e-01</td>\n",
       "      <td id=\"T_16bc6_row7_col3\" class=\"data row7 col3\" >4.38e-03</td>\n",
       "      <td id=\"T_16bc6_row7_col4\" class=\"data row7 col4\" >2.77e-01</td>\n",
       "    </tr>\n",
       "    <tr>\n",
       "      <th id=\"T_16bc6_level0_row8\" class=\"row_heading level0 row8\" > </th>\n",
       "      <td id=\"T_16bc6_row8_col0\" class=\"data row8 col0\" > </td>\n",
       "      <td id=\"T_16bc6_row8_col1\" class=\"data row8 col1\" > </td>\n",
       "      <td id=\"T_16bc6_row8_col2\" class=\"data row8 col2\" > </td>\n",
       "      <td id=\"T_16bc6_row8_col3\" class=\"data row8 col3\" > </td>\n",
       "      <td id=\"T_16bc6_row8_col4\" class=\"data row8 col4\" > </td>\n",
       "    </tr>\n",
       "    <tr>\n",
       "      <th id=\"T_16bc6_level0_row9\" class=\"row_heading level0 row9\" >African</th>\n",
       "      <td id=\"T_16bc6_row9_col0\" class=\"data row9 col0\" >9.59e-01</td>\n",
       "      <td id=\"T_16bc6_row9_col1\" class=\"data row9 col1\" >7.49e-01</td>\n",
       "      <td id=\"T_16bc6_row9_col2\" class=\"data row9 col2\" >8.26e-01</td>\n",
       "      <td id=\"T_16bc6_row9_col3\" class=\"data row9 col3\" >0.00e+00</td>\n",
       "      <td id=\"T_16bc6_row9_col4\" class=\"data row9 col4\" >8.87e-02</td>\n",
       "    </tr>\n",
       "    <tr>\n",
       "      <th id=\"T_16bc6_level0_row10\" class=\"row_heading level0 row10\" >Asian</th>\n",
       "      <td id=\"T_16bc6_row10_col0\" class=\"data row10 col0\" >9.18e-01</td>\n",
       "      <td id=\"T_16bc6_row10_col1\" class=\"data row10 col1\" >7.77e-01</td>\n",
       "      <td id=\"T_16bc6_row10_col2\" class=\"data row10 col2\" >8.09e-01</td>\n",
       "      <td id=\"T_16bc6_row10_col3\" class=\"data row10 col3\" >4.67e-03</td>\n",
       "      <td id=\"T_16bc6_row10_col4\" class=\"data row10 col4\" >1.81e-01</td>\n",
       "    </tr>\n",
       "    <tr>\n",
       "      <th id=\"T_16bc6_level0_row11\" class=\"row_heading level0 row11\" >Caucasian</th>\n",
       "      <td id=\"T_16bc6_row11_col0\" class=\"data row11 col0\" >9.78e-01</td>\n",
       "      <td id=\"T_16bc6_row11_col1\" class=\"data row11 col1\" >9.26e-01</td>\n",
       "      <td id=\"T_16bc6_row11_col2\" class=\"data row11 col2\" >9.64e-01</td>\n",
       "      <td id=\"T_16bc6_row11_col3\" class=\"data row11 col3\" >2.33e-03</td>\n",
       "      <td id=\"T_16bc6_row11_col4\" class=\"data row11 col4\" >3.69e-01</td>\n",
       "    </tr>\n",
       "    <tr>\n",
       "      <th id=\"T_16bc6_level0_row12\" class=\"row_heading level0 row12\" >Indian</th>\n",
       "      <td id=\"T_16bc6_row12_col0\" class=\"data row12 col0\" >9.49e-01</td>\n",
       "      <td id=\"T_16bc6_row12_col1\" class=\"data row12 col1\" >8.51e-01</td>\n",
       "      <td id=\"T_16bc6_row12_col2\" class=\"data row12 col2\" >9.02e-01</td>\n",
       "      <td id=\"T_16bc6_row12_col3\" class=\"data row12 col3\" >6.00e-03</td>\n",
       "      <td id=\"T_16bc6_row12_col4\" class=\"data row12 col4\" >3.01e-01</td>\n",
       "    </tr>\n",
       "  </tbody>\n",
       "</table>\n"
      ],
      "text/plain": [
       "<pandas.io.formats.style.Styler at 0x7ed727708130>"
      ]
     },
     "execution_count": 40,
     "metadata": {},
     "output_type": "execute_result"
    }
   ],
   "source": [
    "df.style.map(lambda _: \"background-color: white\", subset=(df.index[8],))\n",
    "df.style.set_properties(**{'text-align': 'center','background-color': 'grey'}).set_table_styles([dict(selector='th', props=[('text-align', 'center')])])"
   ]
  }
 ],
 "metadata": {
  "kernelspec": {
   "display_name": "Python 3",
   "language": "python",
   "name": "python3"
  },
  "language_info": {
   "codemirror_mode": {
    "name": "ipython",
    "version": 3
   },
   "file_extension": ".py",
   "mimetype": "text/x-python",
   "name": "python",
   "nbconvert_exporter": "python",
   "pygments_lexer": "ipython3",
   "version": "3.10.12"
  }
 },
 "nbformat": 4,
 "nbformat_minor": 2
}
