{
 "cells": [
  {
   "cell_type": "code",
   "execution_count": 13,
   "metadata": {},
   "outputs": [],
   "source": [
    "import pandas as pd\n",
    "import numpy as np"
   ]
  },
  {
   "cell_type": "code",
   "execution_count": 14,
   "metadata": {},
   "outputs": [],
   "source": [
    "races = ['African','Asian','Caucasian','Indian']\n",
    "genders = ['Man','Woman']\n",
    "models = ['AdaFace','ArcFace','ElasticFace','GhostFace','SphereFace']"
   ]
  },
  {
   "cell_type": "code",
   "execution_count": 15,
   "metadata": {},
   "outputs": [],
   "source": [
    "df = pd.DataFrame(columns=models,index = [j+'_'+i for j in races for i in genders] + [' '] + races)"
   ]
  },
  {
   "cell_type": "code",
   "execution_count": 16,
   "metadata": {},
   "outputs": [],
   "source": [
    "def tpr_at_fpr(fpr, tpr, fpr_threshold):\n",
    "    return '%g'%(np.round(100*tpr[np.argmin(np.abs(fpr - fpr_threshold))],5))"
   ]
  },
  {
   "cell_type": "code",
   "execution_count": 17,
   "metadata": {},
   "outputs": [],
   "source": [
    "for model in models:\n",
    "    val = []\n",
    "    for race in races:\n",
    "        for gender in genders:\n",
    "            with open(f'{model}/roc/{race}_{gender}_roc.npy','rb') as f:\n",
    "                fpr  = np.load(f)\n",
    "                tpr  = np.load(f)\n",
    "            val.append(tpr_at_fpr(fpr, tpr, 0.001))\n",
    "    val.append(' ')\n",
    "    for race in races:\n",
    "        with open(f'{model}/roc/{race}_roc.npy','rb') as f:\n",
    "                    fpr  = np.load(f)\n",
    "                    tpr  = np.load(f)\n",
    "        val.append(tpr_at_fpr(fpr, tpr, 0.001))\n",
    "    df[model] = val"
   ]
  },
  {
   "cell_type": "code",
   "execution_count": 18,
   "metadata": {},
   "outputs": [
    {
     "data": {
      "text/html": [
       "<style type=\"text/css\">\n",
       "#T_a9e11 th {\n",
       "  text-align: center;\n",
       "}\n",
       "#T_a9e11_row0_col0, #T_a9e11_row0_col1, #T_a9e11_row0_col2, #T_a9e11_row0_col3, #T_a9e11_row0_col4, #T_a9e11_row1_col0, #T_a9e11_row1_col1, #T_a9e11_row1_col2, #T_a9e11_row1_col3, #T_a9e11_row1_col4, #T_a9e11_row2_col0, #T_a9e11_row2_col1, #T_a9e11_row2_col2, #T_a9e11_row2_col3, #T_a9e11_row2_col4, #T_a9e11_row3_col0, #T_a9e11_row3_col1, #T_a9e11_row3_col2, #T_a9e11_row3_col3, #T_a9e11_row3_col4, #T_a9e11_row4_col0, #T_a9e11_row4_col1, #T_a9e11_row4_col2, #T_a9e11_row4_col3, #T_a9e11_row4_col4, #T_a9e11_row5_col0, #T_a9e11_row5_col1, #T_a9e11_row5_col2, #T_a9e11_row5_col3, #T_a9e11_row5_col4, #T_a9e11_row6_col0, #T_a9e11_row6_col1, #T_a9e11_row6_col2, #T_a9e11_row6_col3, #T_a9e11_row6_col4, #T_a9e11_row7_col0, #T_a9e11_row7_col1, #T_a9e11_row7_col2, #T_a9e11_row7_col3, #T_a9e11_row7_col4, #T_a9e11_row8_col0, #T_a9e11_row8_col1, #T_a9e11_row8_col2, #T_a9e11_row8_col3, #T_a9e11_row8_col4, #T_a9e11_row9_col0, #T_a9e11_row9_col1, #T_a9e11_row9_col2, #T_a9e11_row9_col3, #T_a9e11_row9_col4, #T_a9e11_row10_col0, #T_a9e11_row10_col1, #T_a9e11_row10_col2, #T_a9e11_row10_col3, #T_a9e11_row10_col4, #T_a9e11_row11_col0, #T_a9e11_row11_col1, #T_a9e11_row11_col2, #T_a9e11_row11_col3, #T_a9e11_row11_col4, #T_a9e11_row12_col0, #T_a9e11_row12_col1, #T_a9e11_row12_col2, #T_a9e11_row12_col3, #T_a9e11_row12_col4 {\n",
       "  text-align: center;\n",
       "  background-color: grey;\n",
       "}\n",
       "</style>\n",
       "<table id=\"T_a9e11\">\n",
       "  <thead>\n",
       "    <tr>\n",
       "      <th class=\"blank level0\" >&nbsp;</th>\n",
       "      <th id=\"T_a9e11_level0_col0\" class=\"col_heading level0 col0\" >AdaFace</th>\n",
       "      <th id=\"T_a9e11_level0_col1\" class=\"col_heading level0 col1\" >ArcFace</th>\n",
       "      <th id=\"T_a9e11_level0_col2\" class=\"col_heading level0 col2\" >ElasticFace</th>\n",
       "      <th id=\"T_a9e11_level0_col3\" class=\"col_heading level0 col3\" >GhostFace</th>\n",
       "      <th id=\"T_a9e11_level0_col4\" class=\"col_heading level0 col4\" >SphereFace</th>\n",
       "    </tr>\n",
       "  </thead>\n",
       "  <tbody>\n",
       "    <tr>\n",
       "      <th id=\"T_a9e11_level0_row0\" class=\"row_heading level0 row0\" >African_Man</th>\n",
       "      <td id=\"T_a9e11_row0_col0\" class=\"data row0 col0\" >96.0531</td>\n",
       "      <td id=\"T_a9e11_row0_col1\" class=\"data row0 col1\" >74.8894</td>\n",
       "      <td id=\"T_a9e11_row0_col2\" class=\"data row0 col2\" >82.8513</td>\n",
       "      <td id=\"T_a9e11_row0_col3\" class=\"data row0 col3\" >0</td>\n",
       "      <td id=\"T_a9e11_row0_col4\" class=\"data row0 col4\" >8.7785</td>\n",
       "    </tr>\n",
       "    <tr>\n",
       "      <th id=\"T_a9e11_level0_row1\" class=\"row_heading level0 row1\" >African_Woman</th>\n",
       "      <td id=\"T_a9e11_row1_col0\" class=\"data row1 col0\" >0</td>\n",
       "      <td id=\"T_a9e11_row1_col1\" class=\"data row1 col1\" >0</td>\n",
       "      <td id=\"T_a9e11_row1_col2\" class=\"data row1 col2\" >0</td>\n",
       "      <td id=\"T_a9e11_row1_col3\" class=\"data row1 col3\" >0</td>\n",
       "      <td id=\"T_a9e11_row1_col4\" class=\"data row1 col4\" >0</td>\n",
       "    </tr>\n",
       "    <tr>\n",
       "      <th id=\"T_a9e11_level0_row2\" class=\"row_heading level0 row2\" >Asian_Man</th>\n",
       "      <td id=\"T_a9e11_row2_col0\" class=\"data row2 col0\" >93.2331</td>\n",
       "      <td id=\"T_a9e11_row2_col1\" class=\"data row2 col1\" >73.2613</td>\n",
       "      <td id=\"T_a9e11_row2_col2\" class=\"data row2 col2\" >82.3308</td>\n",
       "      <td id=\"T_a9e11_row2_col3\" class=\"data row2 col3\" >0.23496</td>\n",
       "      <td id=\"T_a9e11_row2_col4\" class=\"data row2 col4\" >19.9248</td>\n",
       "    </tr>\n",
       "    <tr>\n",
       "      <th id=\"T_a9e11_level0_row3\" class=\"row_heading level0 row3\" >Asian_Woman</th>\n",
       "      <td id=\"T_a9e11_row3_col0\" class=\"data row3 col0\" >82.5688</td>\n",
       "      <td id=\"T_a9e11_row3_col1\" class=\"data row3 col1\" >73.0505</td>\n",
       "      <td id=\"T_a9e11_row3_col2\" class=\"data row3 col2\" >75.2294</td>\n",
       "      <td id=\"T_a9e11_row3_col3\" class=\"data row3 col3\" >0.68807</td>\n",
       "      <td id=\"T_a9e11_row3_col4\" class=\"data row3 col4\" >10.0917</td>\n",
       "    </tr>\n",
       "    <tr>\n",
       "      <th id=\"T_a9e11_level0_row4\" class=\"row_heading level0 row4\" >Caucasian_Man</th>\n",
       "      <td id=\"T_a9e11_row4_col0\" class=\"data row4 col0\" >98.0914</td>\n",
       "      <td id=\"T_a9e11_row4_col1\" class=\"data row4 col1\" >96.9374</td>\n",
       "      <td id=\"T_a9e11_row4_col2\" class=\"data row4 col2\" >96.1385</td>\n",
       "      <td id=\"T_a9e11_row4_col3\" class=\"data row4 col3\" >0.22193</td>\n",
       "      <td id=\"T_a9e11_row4_col4\" class=\"data row4 col4\" >28.9836</td>\n",
       "    </tr>\n",
       "    <tr>\n",
       "      <th id=\"T_a9e11_level0_row5\" class=\"row_heading level0 row5\" >Caucasian_Woman</th>\n",
       "      <td id=\"T_a9e11_row5_col0\" class=\"data row5 col0\" >84.8728</td>\n",
       "      <td id=\"T_a9e11_row5_col1\" class=\"data row5 col1\" >86.6131</td>\n",
       "      <td id=\"T_a9e11_row5_col2\" class=\"data row5 col2\" >95.9839</td>\n",
       "      <td id=\"T_a9e11_row5_col3\" class=\"data row5 col3\" >0</td>\n",
       "      <td id=\"T_a9e11_row5_col4\" class=\"data row5 col4\" >48.3266</td>\n",
       "    </tr>\n",
       "    <tr>\n",
       "      <th id=\"T_a9e11_level0_row6\" class=\"row_heading level0 row6\" >Indian_Man</th>\n",
       "      <td id=\"T_a9e11_row6_col0\" class=\"data row6 col0\" >95.378</td>\n",
       "      <td id=\"T_a9e11_row6_col1\" class=\"data row6 col1\" >85.6587</td>\n",
       "      <td id=\"T_a9e11_row6_col2\" class=\"data row6 col2\" >89.6328</td>\n",
       "      <td id=\"T_a9e11_row6_col3\" class=\"data row6 col3\" >0.51836</td>\n",
       "      <td id=\"T_a9e11_row6_col4\" class=\"data row6 col4\" >31.8359</td>\n",
       "    </tr>\n",
       "    <tr>\n",
       "      <th id=\"T_a9e11_level0_row7\" class=\"row_heading level0 row7\" >Indian_Woman</th>\n",
       "      <td id=\"T_a9e11_row7_col0\" class=\"data row7 col0\" >92.9927</td>\n",
       "      <td id=\"T_a9e11_row7_col1\" class=\"data row7 col1\" >81.6058</td>\n",
       "      <td id=\"T_a9e11_row7_col2\" class=\"data row7 col2\" >90.9489</td>\n",
       "      <td id=\"T_a9e11_row7_col3\" class=\"data row7 col3\" >0.43796</td>\n",
       "      <td id=\"T_a9e11_row7_col4\" class=\"data row7 col4\" >27.7372</td>\n",
       "    </tr>\n",
       "    <tr>\n",
       "      <th id=\"T_a9e11_level0_row8\" class=\"row_heading level0 row8\" > </th>\n",
       "      <td id=\"T_a9e11_row8_col0\" class=\"data row8 col0\" > </td>\n",
       "      <td id=\"T_a9e11_row8_col1\" class=\"data row8 col1\" > </td>\n",
       "      <td id=\"T_a9e11_row8_col2\" class=\"data row8 col2\" > </td>\n",
       "      <td id=\"T_a9e11_row8_col3\" class=\"data row8 col3\" > </td>\n",
       "      <td id=\"T_a9e11_row8_col4\" class=\"data row8 col4\" > </td>\n",
       "    </tr>\n",
       "    <tr>\n",
       "      <th id=\"T_a9e11_level0_row9\" class=\"row_heading level0 row9\" >African</th>\n",
       "      <td id=\"T_a9e11_row9_col0\" class=\"data row9 col0\" >95.9</td>\n",
       "      <td id=\"T_a9e11_row9_col1\" class=\"data row9 col1\" >74.8667</td>\n",
       "      <td id=\"T_a9e11_row9_col2\" class=\"data row9 col2\" >82.6333</td>\n",
       "      <td id=\"T_a9e11_row9_col3\" class=\"data row9 col3\" >0</td>\n",
       "      <td id=\"T_a9e11_row9_col4\" class=\"data row9 col4\" >8.86667</td>\n",
       "    </tr>\n",
       "    <tr>\n",
       "      <th id=\"T_a9e11_level0_row10\" class=\"row_heading level0 row10\" >Asian</th>\n",
       "      <td id=\"T_a9e11_row10_col0\" class=\"data row10 col0\" >91.8333</td>\n",
       "      <td id=\"T_a9e11_row10_col1\" class=\"data row10 col1\" >77.6667</td>\n",
       "      <td id=\"T_a9e11_row10_col2\" class=\"data row10 col2\" >80.9333</td>\n",
       "      <td id=\"T_a9e11_row10_col3\" class=\"data row10 col3\" >0.46667</td>\n",
       "      <td id=\"T_a9e11_row10_col4\" class=\"data row10 col4\" >18.1</td>\n",
       "    </tr>\n",
       "    <tr>\n",
       "      <th id=\"T_a9e11_level0_row11\" class=\"row_heading level0 row11\" >Caucasian</th>\n",
       "      <td id=\"T_a9e11_row11_col0\" class=\"data row11 col0\" >97.7667</td>\n",
       "      <td id=\"T_a9e11_row11_col1\" class=\"data row11 col1\" >92.5667</td>\n",
       "      <td id=\"T_a9e11_row11_col2\" class=\"data row11 col2\" >96.4</td>\n",
       "      <td id=\"T_a9e11_row11_col3\" class=\"data row11 col3\" >0.23333</td>\n",
       "      <td id=\"T_a9e11_row11_col4\" class=\"data row11 col4\" >36.8667</td>\n",
       "    </tr>\n",
       "    <tr>\n",
       "      <th id=\"T_a9e11_level0_row12\" class=\"row_heading level0 row12\" >Indian</th>\n",
       "      <td id=\"T_a9e11_row12_col0\" class=\"data row12 col0\" >94.9</td>\n",
       "      <td id=\"T_a9e11_row12_col1\" class=\"data row12 col1\" >85.0667</td>\n",
       "      <td id=\"T_a9e11_row12_col2\" class=\"data row12 col2\" >90.2333</td>\n",
       "      <td id=\"T_a9e11_row12_col3\" class=\"data row12 col3\" >0.6</td>\n",
       "      <td id=\"T_a9e11_row12_col4\" class=\"data row12 col4\" >30.0667</td>\n",
       "    </tr>\n",
       "  </tbody>\n",
       "</table>\n"
      ],
      "text/plain": [
       "<pandas.io.formats.style.Styler at 0x7c8d7ea1b2b0>"
      ]
     },
     "execution_count": 18,
     "metadata": {},
     "output_type": "execute_result"
    }
   ],
   "source": [
    "df.style.map(lambda _: \"background-color: white\", subset=(df.index[8],))\n",
    "df.style.set_properties(**{'text-align': 'center','background-color': 'grey'}).set_table_styles([dict(selector='th', props=[('text-align', 'center')])])"
   ]
  }
 ],
 "metadata": {
  "kernelspec": {
   "display_name": "Python 3",
   "language": "python",
   "name": "python3"
  },
  "language_info": {
   "codemirror_mode": {
    "name": "ipython",
    "version": 3
   },
   "file_extension": ".py",
   "mimetype": "text/x-python",
   "name": "python",
   "nbconvert_exporter": "python",
   "pygments_lexer": "ipython3",
   "version": "3.10.12"
  }
 },
 "nbformat": 4,
 "nbformat_minor": 2
}
