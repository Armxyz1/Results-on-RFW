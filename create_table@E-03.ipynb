{
 "cells": [
  {
   "cell_type": "code",
   "execution_count": 7,
   "metadata": {},
   "outputs": [],
   "source": [
    "import pandas as pd\n",
    "import numpy as np"
   ]
  },
  {
   "cell_type": "code",
   "execution_count": 8,
   "metadata": {},
   "outputs": [],
   "source": [
    "races = ['African','Asian','Caucasian','Indian']\n",
    "genders = ['Man','Woman']\n",
    "models = ['AdaFace','ArcFace','ElasticFace','GhostFace','SphereFace']"
   ]
  },
  {
   "cell_type": "code",
   "execution_count": 9,
   "metadata": {},
   "outputs": [],
   "source": [
    "df = pd.DataFrame(columns=models,index = [j+'_'+i for j in races for i in genders] + [' '] + races)"
   ]
  },
  {
   "cell_type": "code",
   "execution_count": 10,
   "metadata": {},
   "outputs": [],
   "source": [
    "def tpr_at_fpr(fpr, tpr, fpr_threshold):\n",
    "    return '%g'%(np.round(100*tpr[np.argmin(np.abs(fpr - fpr_threshold))],3))"
   ]
  },
  {
   "cell_type": "code",
   "execution_count": 11,
   "metadata": {},
   "outputs": [],
   "source": [
    "for model in models:\n",
    "    val = []\n",
    "    for race in races:\n",
    "        for gender in genders:\n",
    "            with open(f'{model}/roc/{race}_{gender}_roc.npy','rb') as f:\n",
    "                fpr  = np.load(f)\n",
    "                tpr  = np.load(f)\n",
    "            val.append(tpr_at_fpr(fpr, tpr, 0.001))\n",
    "    val.append(' ')\n",
    "    for race in races:\n",
    "        with open(f'{model}/roc/{race}_roc.npy','rb') as f:\n",
    "                    fpr  = np.load(f)\n",
    "                    tpr  = np.load(f)\n",
    "        val.append(tpr_at_fpr(fpr, tpr, 0.001))\n",
    "    df[model] = val"
   ]
  },
  {
   "cell_type": "code",
   "execution_count": 12,
   "metadata": {},
   "outputs": [
    {
     "data": {
      "text/html": [
       "<style type=\"text/css\">\n",
       "#T_7338e th {\n",
       "  text-align: center;\n",
       "}\n",
       "#T_7338e_row0_col0, #T_7338e_row0_col1, #T_7338e_row0_col2, #T_7338e_row0_col3, #T_7338e_row0_col4, #T_7338e_row1_col0, #T_7338e_row1_col1, #T_7338e_row1_col2, #T_7338e_row1_col3, #T_7338e_row1_col4, #T_7338e_row2_col0, #T_7338e_row2_col1, #T_7338e_row2_col2, #T_7338e_row2_col3, #T_7338e_row2_col4, #T_7338e_row3_col0, #T_7338e_row3_col1, #T_7338e_row3_col2, #T_7338e_row3_col3, #T_7338e_row3_col4, #T_7338e_row4_col0, #T_7338e_row4_col1, #T_7338e_row4_col2, #T_7338e_row4_col3, #T_7338e_row4_col4, #T_7338e_row5_col0, #T_7338e_row5_col1, #T_7338e_row5_col2, #T_7338e_row5_col3, #T_7338e_row5_col4, #T_7338e_row6_col0, #T_7338e_row6_col1, #T_7338e_row6_col2, #T_7338e_row6_col3, #T_7338e_row6_col4, #T_7338e_row7_col0, #T_7338e_row7_col1, #T_7338e_row7_col2, #T_7338e_row7_col3, #T_7338e_row7_col4, #T_7338e_row8_col0, #T_7338e_row8_col1, #T_7338e_row8_col2, #T_7338e_row8_col3, #T_7338e_row8_col4, #T_7338e_row9_col0, #T_7338e_row9_col1, #T_7338e_row9_col2, #T_7338e_row9_col3, #T_7338e_row9_col4, #T_7338e_row10_col0, #T_7338e_row10_col1, #T_7338e_row10_col2, #T_7338e_row10_col3, #T_7338e_row10_col4, #T_7338e_row11_col0, #T_7338e_row11_col1, #T_7338e_row11_col2, #T_7338e_row11_col3, #T_7338e_row11_col4, #T_7338e_row12_col0, #T_7338e_row12_col1, #T_7338e_row12_col2, #T_7338e_row12_col3, #T_7338e_row12_col4 {\n",
       "  text-align: center;\n",
       "  background-color: grey;\n",
       "}\n",
       "</style>\n",
       "<table id=\"T_7338e\">\n",
       "  <thead>\n",
       "    <tr>\n",
       "      <th class=\"blank level0\" >&nbsp;</th>\n",
       "      <th id=\"T_7338e_level0_col0\" class=\"col_heading level0 col0\" >AdaFace</th>\n",
       "      <th id=\"T_7338e_level0_col1\" class=\"col_heading level0 col1\" >ArcFace</th>\n",
       "      <th id=\"T_7338e_level0_col2\" class=\"col_heading level0 col2\" >ElasticFace</th>\n",
       "      <th id=\"T_7338e_level0_col3\" class=\"col_heading level0 col3\" >GhostFace</th>\n",
       "      <th id=\"T_7338e_level0_col4\" class=\"col_heading level0 col4\" >SphereFace</th>\n",
       "    </tr>\n",
       "  </thead>\n",
       "  <tbody>\n",
       "    <tr>\n",
       "      <th id=\"T_7338e_level0_row0\" class=\"row_heading level0 row0\" >African_Man</th>\n",
       "      <td id=\"T_7338e_row0_col0\" class=\"data row0 col0\" >96.053</td>\n",
       "      <td id=\"T_7338e_row0_col1\" class=\"data row0 col1\" >74.889</td>\n",
       "      <td id=\"T_7338e_row0_col2\" class=\"data row0 col2\" >82.851</td>\n",
       "      <td id=\"T_7338e_row0_col3\" class=\"data row0 col3\" >10.582</td>\n",
       "      <td id=\"T_7338e_row0_col4\" class=\"data row0 col4\" >8.778</td>\n",
       "    </tr>\n",
       "    <tr>\n",
       "      <th id=\"T_7338e_level0_row1\" class=\"row_heading level0 row1\" >African_Woman</th>\n",
       "      <td id=\"T_7338e_row1_col0\" class=\"data row1 col0\" >0</td>\n",
       "      <td id=\"T_7338e_row1_col1\" class=\"data row1 col1\" >0</td>\n",
       "      <td id=\"T_7338e_row1_col2\" class=\"data row1 col2\" >0</td>\n",
       "      <td id=\"T_7338e_row1_col3\" class=\"data row1 col3\" >0</td>\n",
       "      <td id=\"T_7338e_row1_col4\" class=\"data row1 col4\" >0</td>\n",
       "    </tr>\n",
       "    <tr>\n",
       "      <th id=\"T_7338e_level0_row2\" class=\"row_heading level0 row2\" >Asian_Man</th>\n",
       "      <td id=\"T_7338e_row2_col0\" class=\"data row2 col0\" >93.233</td>\n",
       "      <td id=\"T_7338e_row2_col1\" class=\"data row2 col1\" >73.261</td>\n",
       "      <td id=\"T_7338e_row2_col2\" class=\"data row2 col2\" >82.331</td>\n",
       "      <td id=\"T_7338e_row2_col3\" class=\"data row2 col3\" >22.133</td>\n",
       "      <td id=\"T_7338e_row2_col4\" class=\"data row2 col4\" >19.925</td>\n",
       "    </tr>\n",
       "    <tr>\n",
       "      <th id=\"T_7338e_level0_row3\" class=\"row_heading level0 row3\" >Asian_Woman</th>\n",
       "      <td id=\"T_7338e_row3_col0\" class=\"data row3 col0\" >82.569</td>\n",
       "      <td id=\"T_7338e_row3_col1\" class=\"data row3 col1\" >73.05</td>\n",
       "      <td id=\"T_7338e_row3_col2\" class=\"data row3 col2\" >75.229</td>\n",
       "      <td id=\"T_7338e_row3_col3\" class=\"data row3 col3\" >10.78</td>\n",
       "      <td id=\"T_7338e_row3_col4\" class=\"data row3 col4\" >10.092</td>\n",
       "    </tr>\n",
       "    <tr>\n",
       "      <th id=\"T_7338e_level0_row4\" class=\"row_heading level0 row4\" >Caucasian_Man</th>\n",
       "      <td id=\"T_7338e_row4_col0\" class=\"data row4 col0\" >98.091</td>\n",
       "      <td id=\"T_7338e_row4_col1\" class=\"data row4 col1\" >96.937</td>\n",
       "      <td id=\"T_7338e_row4_col2\" class=\"data row4 col2\" >96.138</td>\n",
       "      <td id=\"T_7338e_row4_col3\" class=\"data row4 col3\" >33.6</td>\n",
       "      <td id=\"T_7338e_row4_col4\" class=\"data row4 col4\" >28.984</td>\n",
       "    </tr>\n",
       "    <tr>\n",
       "      <th id=\"T_7338e_level0_row5\" class=\"row_heading level0 row5\" >Caucasian_Woman</th>\n",
       "      <td id=\"T_7338e_row5_col0\" class=\"data row5 col0\" >84.873</td>\n",
       "      <td id=\"T_7338e_row5_col1\" class=\"data row5 col1\" >86.613</td>\n",
       "      <td id=\"T_7338e_row5_col2\" class=\"data row5 col2\" >95.984</td>\n",
       "      <td id=\"T_7338e_row5_col3\" class=\"data row5 col3\" >12.718</td>\n",
       "      <td id=\"T_7338e_row5_col4\" class=\"data row5 col4\" >48.327</td>\n",
       "    </tr>\n",
       "    <tr>\n",
       "      <th id=\"T_7338e_level0_row6\" class=\"row_heading level0 row6\" >Indian_Man</th>\n",
       "      <td id=\"T_7338e_row6_col0\" class=\"data row6 col0\" >95.378</td>\n",
       "      <td id=\"T_7338e_row6_col1\" class=\"data row6 col1\" >85.659</td>\n",
       "      <td id=\"T_7338e_row6_col2\" class=\"data row6 col2\" >89.633</td>\n",
       "      <td id=\"T_7338e_row6_col3\" class=\"data row6 col3\" >20.778</td>\n",
       "      <td id=\"T_7338e_row6_col4\" class=\"data row6 col4\" >31.836</td>\n",
       "    </tr>\n",
       "    <tr>\n",
       "      <th id=\"T_7338e_level0_row7\" class=\"row_heading level0 row7\" >Indian_Woman</th>\n",
       "      <td id=\"T_7338e_row7_col0\" class=\"data row7 col0\" >92.993</td>\n",
       "      <td id=\"T_7338e_row7_col1\" class=\"data row7 col1\" >81.606</td>\n",
       "      <td id=\"T_7338e_row7_col2\" class=\"data row7 col2\" >90.949</td>\n",
       "      <td id=\"T_7338e_row7_col3\" class=\"data row7 col3\" >15.328</td>\n",
       "      <td id=\"T_7338e_row7_col4\" class=\"data row7 col4\" >27.737</td>\n",
       "    </tr>\n",
       "    <tr>\n",
       "      <th id=\"T_7338e_level0_row8\" class=\"row_heading level0 row8\" > </th>\n",
       "      <td id=\"T_7338e_row8_col0\" class=\"data row8 col0\" > </td>\n",
       "      <td id=\"T_7338e_row8_col1\" class=\"data row8 col1\" > </td>\n",
       "      <td id=\"T_7338e_row8_col2\" class=\"data row8 col2\" > </td>\n",
       "      <td id=\"T_7338e_row8_col3\" class=\"data row8 col3\" > </td>\n",
       "      <td id=\"T_7338e_row8_col4\" class=\"data row8 col4\" > </td>\n",
       "    </tr>\n",
       "    <tr>\n",
       "      <th id=\"T_7338e_level0_row9\" class=\"row_heading level0 row9\" >African</th>\n",
       "      <td id=\"T_7338e_row9_col0\" class=\"data row9 col0\" >95.9</td>\n",
       "      <td id=\"T_7338e_row9_col1\" class=\"data row9 col1\" >74.867</td>\n",
       "      <td id=\"T_7338e_row9_col2\" class=\"data row9 col2\" >82.633</td>\n",
       "      <td id=\"T_7338e_row9_col3\" class=\"data row9 col3\" >10.567</td>\n",
       "      <td id=\"T_7338e_row9_col4\" class=\"data row9 col4\" >8.867</td>\n",
       "    </tr>\n",
       "    <tr>\n",
       "      <th id=\"T_7338e_level0_row10\" class=\"row_heading level0 row10\" >Asian</th>\n",
       "      <td id=\"T_7338e_row10_col0\" class=\"data row10 col0\" >91.833</td>\n",
       "      <td id=\"T_7338e_row10_col1\" class=\"data row10 col1\" >77.667</td>\n",
       "      <td id=\"T_7338e_row10_col2\" class=\"data row10 col2\" >80.933</td>\n",
       "      <td id=\"T_7338e_row10_col3\" class=\"data row10 col3\" >17.7</td>\n",
       "      <td id=\"T_7338e_row10_col4\" class=\"data row10 col4\" >18.1</td>\n",
       "    </tr>\n",
       "    <tr>\n",
       "      <th id=\"T_7338e_level0_row11\" class=\"row_heading level0 row11\" >Caucasian</th>\n",
       "      <td id=\"T_7338e_row11_col0\" class=\"data row11 col0\" >97.767</td>\n",
       "      <td id=\"T_7338e_row11_col1\" class=\"data row11 col1\" >92.567</td>\n",
       "      <td id=\"T_7338e_row11_col2\" class=\"data row11 col2\" >96.4</td>\n",
       "      <td id=\"T_7338e_row11_col3\" class=\"data row11 col3\" >32.067</td>\n",
       "      <td id=\"T_7338e_row11_col4\" class=\"data row11 col4\" >36.867</td>\n",
       "    </tr>\n",
       "    <tr>\n",
       "      <th id=\"T_7338e_level0_row12\" class=\"row_heading level0 row12\" >Indian</th>\n",
       "      <td id=\"T_7338e_row12_col0\" class=\"data row12 col0\" >94.9</td>\n",
       "      <td id=\"T_7338e_row12_col1\" class=\"data row12 col1\" >85.067</td>\n",
       "      <td id=\"T_7338e_row12_col2\" class=\"data row12 col2\" >90.233</td>\n",
       "      <td id=\"T_7338e_row12_col3\" class=\"data row12 col3\" >19.533</td>\n",
       "      <td id=\"T_7338e_row12_col4\" class=\"data row12 col4\" >30.067</td>\n",
       "    </tr>\n",
       "  </tbody>\n",
       "</table>\n"
      ],
      "text/plain": [
       "<pandas.io.formats.style.Styler at 0x7ecdbc89ab60>"
      ]
     },
     "execution_count": 12,
     "metadata": {},
     "output_type": "execute_result"
    }
   ],
   "source": [
    "df.style.map(lambda _: \"background-color: white\", subset=(df.index[8],))\n",
    "df.style.set_properties(**{'text-align': 'center','background-color': 'grey'}).set_table_styles([dict(selector='th', props=[('text-align', 'center')])])"
   ]
  }
 ],
 "metadata": {
  "kernelspec": {
   "display_name": "Python 3",
   "language": "python",
   "name": "python3"
  },
  "language_info": {
   "codemirror_mode": {
    "name": "ipython",
    "version": 3
   },
   "file_extension": ".py",
   "mimetype": "text/x-python",
   "name": "python",
   "nbconvert_exporter": "python",
   "pygments_lexer": "ipython3",
   "version": "3.10.12"
  }
 },
 "nbformat": 4,
 "nbformat_minor": 2
}
