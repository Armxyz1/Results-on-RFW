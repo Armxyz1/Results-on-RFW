{
 "cells": [
  {
   "cell_type": "code",
   "execution_count": 1,
   "metadata": {},
   "outputs": [],
   "source": [
    "import torch\n",
    "import os\n",
    "import numpy as np\n",
    "from tqdm import tqdm\n",
    "from sklearn.metrics import roc_curve"
   ]
  },
  {
   "cell_type": "code",
   "execution_count": 2,
   "metadata": {},
   "outputs": [],
   "source": [
    "from shutil import copy2"
   ]
  },
  {
   "cell_type": "code",
   "execution_count": 3,
   "metadata": {},
   "outputs": [],
   "source": [
    "import matplotlib.pyplot as plt"
   ]
  },
  {
   "cell_type": "code",
   "execution_count": 4,
   "metadata": {},
   "outputs": [],
   "source": [
    "races = ['African','Asian','Caucasian','Indian']\n",
    "genders = ['Man','Woman']\n",
    "labels = []\n",
    "dist = []\n",
    "for race in races:\n",
    "    for gender in genders:\n",
    "        with open(f\"./sims/{race}_{gender}_sims.csv\",'r') as f:\n",
    "            lines = f.readlines()\n",
    "        for line in lines:\n",
    "            arr = line.strip().split(',')\n",
    "            labels.append(int(arr[3]))\n",
    "            dist.append(float(arr[2]))"
   ]
  },
  {
   "cell_type": "code",
   "execution_count": 5,
   "metadata": {},
   "outputs": [
    {
     "name": "stdout",
     "output_type": "stream",
     "text": [
      "Threshold: 0.2952694594860077\n"
     ]
    }
   ],
   "source": [
    "fpr , tpr ,thresholds = roc_curve(labels,dist)\n",
    "idx = np.argmax(tpr-fpr)\n",
    "threshold = thresholds[idx]\n",
    "print(f\"Threshold: {threshold}\")"
   ]
  },
  {
   "cell_type": "code",
   "execution_count": 6,
   "metadata": {},
   "outputs": [],
   "source": [
    "races = ['African','Asian','Caucasian','Indian']\n",
    "genders = ['Man','Woman']\n",
    "accuracies = {}\n",
    "for race in races:\n",
    "    for gender in genders:\n",
    "        accuracies[f\"{race}_{gender}\"] = {'TP':0,'TN':0,'FP':0,'FN':0}\n",
    "        with open(f\"./sims/{race}_{gender}_sims.csv\",'r') as f:\n",
    "            lines = f.readlines()\n",
    "        dist = []\n",
    "        labels = []\n",
    "        for line in lines:\n",
    "            arr = line.strip().split(',')\n",
    "            dist.append(float(arr[2]))\n",
    "            labels.append(int(arr[3]))\n",
    "            if float(arr[2]) < threshold:\n",
    "                with open(f\"./results/{race}_{gender}_results.csv\",'a') as f:\n",
    "                    f.write(f\"{arr[0]},{arr[1]},0,{arr[3]}\\n\")\n",
    "                if int(arr[3]) == 1:\n",
    "                    accuracies[f\"{race}_{gender}\"]['TN'] += 1\n",
    "                else:\n",
    "                    accuracies[f\"{race}_{gender}\"]['FN'] += 1\n",
    "            else:\n",
    "                with open(f\"./results/{race}_{gender}_results.csv\",'a') as f:\n",
    "                    f.write(f\"{arr[0]},{arr[1]},1,{arr[3]}\\n\")\n",
    "                if int(arr[3]) == 1:\n",
    "                    accuracies[f\"{race}_{gender}\"]['TP'] += 1\n",
    "                else:\n",
    "                    accuracies[f\"{race}_{gender}\"]['FP'] += 1\n",
    "        fpr, tpr, thresholds = roc_curve(labels,dist)\n",
    "        fpr = np.array(fpr)\n",
    "        tpr = np.array(tpr)\n",
    "        with open(f\"./roc/{race}_{gender}_roc.npy\",'wb') as f:\n",
    "            np.save(f,fpr)\n",
    "            np.save(f,tpr)"
   ]
  },
  {
   "cell_type": "code",
   "execution_count": 7,
   "metadata": {},
   "outputs": [
    {
     "name": "stdout",
     "output_type": "stream",
     "text": [
      "{'African_Man': {'TP': 2832, 'TN': 107, 'FP': 66, 'FN': 2874}, 'African_Woman': {'TP': 56, 'TN': 5, 'FP': 1, 'FN': 59}, 'Asian_Man': {'TP': 2022, 'TN': 106, 'FP': 27, 'FN': 2104}, 'Asian_Woman': {'TP': 807, 'TN': 65, 'FP': 8, 'FN': 861}, 'Caucasian_Man': {'TP': 2180, 'TN': 73, 'FP': 3, 'FN': 2249}, 'Caucasian_Woman': {'TP': 716, 'TN': 31, 'FP': 0, 'FN': 748}, 'Indian_Man': {'TP': 2234, 'TN': 81, 'FP': 34, 'FN': 2283}, 'Indian_Woman': {'TP': 664, 'TN': 21, 'FP': 10, 'FN': 672}}\n"
     ]
    }
   ],
   "source": [
    "print(accuracies)"
   ]
  },
  {
   "cell_type": "code",
   "execution_count": 8,
   "metadata": {},
   "outputs": [],
   "source": [
    "gar = {}\n",
    "far = {}\n",
    "scores = {}\n",
    "for race in races:\n",
    "    for gender in genders:\n",
    "        tp = accuracies[f\"{race}_{gender}\"]['TP']\n",
    "        tn = accuracies[f\"{race}_{gender}\"]['TN']\n",
    "        fp = accuracies[f\"{race}_{gender}\"]['FP']\n",
    "        fn = accuracies[f\"{race}_{gender}\"]['FN']\n",
    "        gar[f\"{race}_{gender}\"] = tp/(tn+tp)\n",
    "        far[f\"{race}_{gender}\"] = fp/(fn+fp)\n",
    "        scores[f\"{race}_{gender}\"] = 100*(fn+tp)/(fn+fp+tn+tp)"
   ]
  },
  {
   "cell_type": "code",
   "execution_count": 9,
   "metadata": {},
   "outputs": [
    {
     "data": {
      "text/plain": [
       "{'African_Man': 0.9635930588635591,\n",
       " 'African_Woman': 0.9180327868852459,\n",
       " 'Asian_Man': 0.950187969924812,\n",
       " 'Asian_Woman': 0.9254587155963303,\n",
       " 'Caucasian_Man': 0.9675987572126055,\n",
       " 'Caucasian_Woman': 0.9585006693440429,\n",
       " 'Indian_Man': 0.9650107991360691,\n",
       " 'Indian_Woman': 0.9693430656934306}"
      ]
     },
     "execution_count": 9,
     "metadata": {},
     "output_type": "execute_result"
    }
   ],
   "source": [
    "gar"
   ]
  },
  {
   "cell_type": "code",
   "execution_count": 10,
   "metadata": {},
   "outputs": [
    {
     "data": {
      "text/plain": [
       "{'African_Man': 0.022448979591836733,\n",
       " 'African_Woman': 0.016666666666666666,\n",
       " 'Asian_Man': 0.012670107930549039,\n",
       " 'Asian_Woman': 0.009205983889528193,\n",
       " 'Caucasian_Man': 0.0013321492007104796,\n",
       " 'Caucasian_Woman': 0.0,\n",
       " 'Indian_Man': 0.0146741476046612,\n",
       " 'Indian_Woman': 0.01466275659824047}"
      ]
     },
     "execution_count": 10,
     "metadata": {},
     "output_type": "execute_result"
    }
   ],
   "source": [
    "far"
   ]
  },
  {
   "cell_type": "code",
   "execution_count": 11,
   "metadata": {},
   "outputs": [
    {
     "data": {
      "text/plain": [
       "{'African_Man': 97.05732267392413,\n",
       " 'African_Woman': 95.04132231404958,\n",
       " 'Asian_Man': 96.87720122094389,\n",
       " 'Asian_Woman': 95.807007466973,\n",
       " 'Caucasian_Man': 98.31298557158712,\n",
       " 'Caucasian_Woman': 97.92642140468227,\n",
       " 'Indian_Man': 97.51727115716753,\n",
       " 'Indian_Woman': 97.73226042428676}"
      ]
     },
     "execution_count": 11,
     "metadata": {},
     "output_type": "execute_result"
    }
   ],
   "source": [
    "scores"
   ]
  }
 ],
 "metadata": {
  "kernelspec": {
   "display_name": "Python 3",
   "language": "python",
   "name": "python3"
  },
  "language_info": {
   "codemirror_mode": {
    "name": "ipython",
    "version": 3
   },
   "file_extension": ".py",
   "mimetype": "text/x-python",
   "name": "python",
   "nbconvert_exporter": "python",
   "pygments_lexer": "ipython3",
   "version": "3.10.12"
  }
 },
 "nbformat": 4,
 "nbformat_minor": 2
}
