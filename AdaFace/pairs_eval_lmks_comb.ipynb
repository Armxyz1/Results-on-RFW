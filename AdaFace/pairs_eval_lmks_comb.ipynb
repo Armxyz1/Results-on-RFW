{
 "cells": [
  {
   "cell_type": "code",
   "execution_count": 1,
   "metadata": {},
   "outputs": [],
   "source": [
    "import net\n",
    "import torch\n",
    "import os\n",
    "from face_alignment import align\n",
    "import numpy as np\n",
    "from tqdm import tqdm\n",
    "from matlab_cp2tform import get_similarity_transform_for_cv2\n",
    "import cv2"
   ]
  },
  {
   "cell_type": "code",
   "execution_count": 2,
   "metadata": {},
   "outputs": [],
   "source": [
    "adaface_models = {\n",
    "    'ir_101':\"./models/backbonesadaface_ir101_webface12m.ckpt\",\n",
    "}\n",
    "\n",
    "def load_pretrained_model(architecture='ir_101'):\n",
    "    # load model and pretrained statedict\n",
    "    assert architecture in adaface_models.keys()\n",
    "    model = net.build_model(architecture)\n",
    "    statedict = torch.load(adaface_models[architecture])['state_dict']\n",
    "    model_statedict = {key[6:]:val for key, val in statedict.items() if key.startswith('model.')}\n",
    "    model.load_state_dict(model_statedict)\n",
    "    model.to('cuda')\n",
    "    model.eval()\n",
    "    return model\n",
    "model = load_pretrained_model()\n"
   ]
  },
  {
   "cell_type": "code",
   "execution_count": 3,
   "metadata": {},
   "outputs": [],
   "source": [
    "races = ['African','Asian','Caucasian','Indian']\n",
    "genders = ['Man','Woman']"
   ]
  },
  {
   "cell_type": "code",
   "execution_count": 4,
   "metadata": {},
   "outputs": [],
   "source": [
    "African_wom = os.listdir('../images/test/data/African/Woman')\n",
    "Caucasian_wom = os.listdir('../images/test/data/Caucasian/Woman')\n",
    "Asian_wom = os.listdir('../images/test/data/Asian/Woman')\n",
    "Indian_wom = os.listdir('../images/test/data/Indian/Woman')\n",
    "Asian_man = os.listdir('../images/test/data/Asian/Man')\n",
    "African_man = os.listdir('../images/test/data/African/Man')\n",
    "Caucasian_man = os.listdir('../images/test/data/Caucasian/Man')\n",
    "Indian_man = os.listdir('../images/test/data/Indian/Man')"
   ]
  },
  {
   "cell_type": "code",
   "execution_count": 5,
   "metadata": {},
   "outputs": [],
   "source": [
    "def to_input(pil_rgb_image):\n",
    "    np_img = np.array(pil_rgb_image)\n",
    "    brg_img = ((np_img/ 255.) - 0.5) / 0.5\n",
    "    tensor = torch.tensor(np.array([brg_img.transpose(2,0,1)])).float()\n",
    "    return tensor"
   ]
  },
  {
   "cell_type": "code",
   "execution_count": 6,
   "metadata": {},
   "outputs": [],
   "source": [
    "def alignment(src_img,src_pts):\n",
    "    ref_pts = [ [30.2946, 51.6963],[65.5318, 51.5014],\n",
    "        [48.0252, 71.7366],[33.5493, 92.3655],[62.7299, 92.2041] ]\n",
    "    crop_size = (96, 112)\n",
    "    src_pts = np.array(src_pts).reshape(5,2)\n",
    "\n",
    "    s = np.array(src_pts).astype(np.float32)\n",
    "    r = np.array(ref_pts).astype(np.float32)\n",
    "\n",
    "    tfm = get_similarity_transform_for_cv2(s, r)\n",
    "    face_img = cv2.warpAffine(src_img, tfm, crop_size)\n",
    "    return face_img"
   ]
  },
  {
   "cell_type": "code",
   "execution_count": 7,
   "metadata": {},
   "outputs": [],
   "source": [
    "cache = {}"
   ]
  },
  {
   "cell_type": "code",
   "execution_count": 8,
   "metadata": {},
   "outputs": [
    {
     "name": "stderr",
     "output_type": "stream",
     "text": [
      "  0%|          | 0/6000 [00:00<?, ?it/s]/home/dysl-ai/Desktop/Results-on-RFW/AdaFace/matlab_cp2tform.py:50: FutureWarning: `rcond` parameter will change to the default of machine precision times ``max(M, N)`` where M and N are the input matrix dimensions.\n",
      "To use the future default and silence this warning we advise to pass `rcond=None`, to keep using the old, explicitly pass `rcond=-1`.\n",
      "  r, _, _, _ = lstsq(X, U)\n",
      "100%|██████████| 6000/6000 [05:25<00:00, 18.44it/s]\n",
      "100%|██████████| 6000/6000 [06:58<00:00, 14.34it/s]\n",
      "100%|██████████| 6000/6000 [07:20<00:00, 13.62it/s]\n",
      " 25%|██▌       | 1519/6000 [01:59<05:29, 13.59it/s][ WARN:0@1305.187] global loadsave.cpp:241 findDecoder imread_('../images/test/data/Just_Images/African/Man/m.0bk56n_0005.jpg'): can't open/read file: check file path/integrity\n",
      " 25%|██▌       | 1523/6000 [01:59<04:53, 15.27it/s]"
     ]
    },
    {
     "name": "stdout",
     "output_type": "stream",
     "text": [
      "OpenCV(4.10.0) /io/opencv/modules/imgproc/src/imgwarp.cpp:2825: error: (-215:Assertion failed) src.cols > 0 && src.rows > 0 in function 'warpAffine'\n",
      "\n"
     ]
    },
    {
     "name": "stderr",
     "output_type": "stream",
     "text": [
      "100%|██████████| 6000/6000 [07:02<00:00, 14.20it/s]\n"
     ]
    }
   ],
   "source": [
    "for race in races:\n",
    "    landmark = {}\n",
    "    with open(f'../images/test/txts/{race}/{race}_lmk.txt') as f:\n",
    "        landmark_lines = f.readlines()\n",
    "    for line in landmark_lines:\n",
    "        l = line.strip().split()\n",
    "        landmark[l[0]] = [float(k) for k in l[2:]]\n",
    "    with open(f\"../images/test/txts/{race}/{race}_pairs.txt\", 'r') as f:\n",
    "        pairs = f.readlines()\n",
    "    pairs = [pair.strip().split() for pair in pairs]\n",
    "    for pair in tqdm(pairs):\n",
    "        try:\n",
    "            race2 = None\n",
    "            gen2 = None\n",
    "            if pair[0] in eval(f'{race}_wom'):\n",
    "                    gender = \"Woman\"\n",
    "            else:\n",
    "                    gender = \"Man\"\n",
    "            sim = 0\n",
    "            img1 = f\"../images/test/data/Just_Images/{race}/{gender}/{pair[0]}_000{pair[1]}.jpg\"\n",
    "            if len(pair) == 3:\n",
    "                img2 = f\"../images/test/data/Just_Images/{race}/{gender}/{pair[0]}_000{pair[2]}.jpg\"\n",
    "                sim = 1\n",
    "                name1 = pair[0]+'/'+pair[0]+'_'+'{:04}.jpg'.format(int(pair[1]))\n",
    "                name2 = pair[0]+'/'+pair[0]+'_'+'{:04}.jpg'.format(int(pair[2]))\n",
    "            else:\n",
    "                if pair[2] in African_wom or pair[2] in Caucasian_wom or pair[2] in Asian_wom or pair[2] in Indian_wom:\n",
    "                    gen2 = \"Woman\"\n",
    "                    if pair[2] in African_wom:\n",
    "                        race2 = \"African\"\n",
    "                    elif pair[2] in Caucasian_wom:\n",
    "                        race2 = \"Caucasian\"\n",
    "                    elif pair[2] in Asian_wom:\n",
    "                        race2 = \"Asian\"\n",
    "                    else:\n",
    "                        race2 = \"Indian\"\n",
    "                else:\n",
    "                    gen2 = \"Man\"\n",
    "                    if pair[2] in African_man:\n",
    "                        race2 = \"African\"\n",
    "                    elif pair[2] in Caucasian_man:\n",
    "                        race2 = \"Caucasian\"\n",
    "                    elif pair[2] in Asian_man:\n",
    "                        race2 = \"Asian\"\n",
    "                    else:\n",
    "                        race2 = \"Indian\"\n",
    "                img2 = f\"../images/test/data/Just_Images/{race2}/{gen2}/{pair[2]}_000{pair[3]}.jpg\"\n",
    "                name1 = pair[0]+'/'+pair[0]+'_'+'{:04}.jpg'.format(int(pair[1]))\n",
    "                name2 = pair[2]+'/'+pair[2]+'_'+'{:04}.jpg'.format(int(pair[3]))\n",
    "            if img1 in cache:\n",
    "                 vec1 = cache[img1]\n",
    "            else:\n",
    "                with torch.no_grad():\n",
    "                    vec1 = model(torch.tensor(np.expand_dims(cv2.resize(alignment(cv2.imread(img1),landmark[f\"/test/data/{race}/{name1}\"]),(112,112)).transpose(2,0,1),axis = 0)).float().to('cuda'))\n",
    "                vec1 = vec1[0].cpu().detach().numpy()\n",
    "                vec1/=np.linalg.norm(vec1)\n",
    "                cache[img1] = vec1\n",
    "            if img2 in cache:\n",
    "                vec2 = cache[img2]\n",
    "            else:\n",
    "                with torch.no_grad():\n",
    "                    vec2 = model(torch.tensor(np.expand_dims(cv2.resize(alignment(cv2.imread(img2),landmark[f\"/test/data/{race}/{name2}\"]),(112,112)).transpose(2,0,1),axis = 0)).float().to('cuda'))\n",
    "                vec2 = vec2[0].cpu().detach().numpy()          \n",
    "                vec2/=np.linalg.norm(vec2)\n",
    "                cache[img2] = vec2\n",
    "            if img1 not in cache:\n",
    "                    cache[img1] = vec1\n",
    "            if img2 not in cache:\n",
    "                    cache[img2] = vec2\n",
    "            score = np.dot(vec1, vec2.T)[0][0]\n",
    "            with open(f\"./lmks/{race}_lmks.csv\", 'a') as f:\n",
    "                f.write(f\"{img1},{img2},{score},{sim}\\n\")\n",
    "        except Exception as e:\n",
    "            print(e)\n",
    "            continue"
   ]
  }
 ],
 "metadata": {
  "kernelspec": {
   "display_name": "base",
   "language": "python",
   "name": "python3"
  },
  "language_info": {
   "codemirror_mode": {
    "name": "ipython",
    "version": 3
   },
   "file_extension": ".py",
   "mimetype": "text/x-python",
   "name": "python",
   "nbconvert_exporter": "python",
   "pygments_lexer": "ipython3",
   "version": "3.10.12"
  }
 },
 "nbformat": 4,
 "nbformat_minor": 2
}
