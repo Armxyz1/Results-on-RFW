{
 "cells": [
  {
   "cell_type": "code",
   "execution_count": 1,
   "metadata": {},
   "outputs": [],
   "source": [
    "import torch\n",
    "import os\n",
    "import numpy as np\n",
    "from tqdm import tqdm\n",
    "from sklearn.metrics import roc_curve"
   ]
  },
  {
   "cell_type": "code",
   "execution_count": 2,
   "metadata": {},
   "outputs": [],
   "source": [
    "def get_threshold(tpr, threshold):\n",
    "    target = 10**(-2)\n",
    "    for i in range(len(tpr)):\n",
    "        if tpr[i] <= target and tpr[i+1] > target:\n",
    "            return threshold[i]"
   ]
  },
  {
   "cell_type": "code",
   "execution_count": 3,
   "metadata": {},
   "outputs": [],
   "source": [
    "from shutil import copy2"
   ]
  },
  {
   "cell_type": "code",
   "execution_count": 4,
   "metadata": {},
   "outputs": [],
   "source": [
    "races = ['African','Asian','Caucasian','Indian']\n",
    "labels = []\n",
    "dist = []\n",
    "for race in races:\n",
    "        with open(f\"./lmks/{race}_lmks.csv\",'r') as f:\n",
    "            lines = f.readlines()\n",
    "        for line in lines:\n",
    "            arr = line.strip().split(',')\n",
    "            labels.append(int(arr[3]))\n",
    "            dist.append(float(arr[2]))"
   ]
  },
  {
   "cell_type": "code",
   "execution_count": 5,
   "metadata": {},
   "outputs": [
    {
     "data": {
      "text/plain": [
       "0.9695320129394531"
      ]
     },
     "execution_count": 5,
     "metadata": {},
     "output_type": "execute_result"
    }
   ],
   "source": [
    "fpr , tpr ,thresholds = roc_curve(labels,dist)\n",
    "threshold = get_threshold(tpr,thresholds)\n",
    "threshold"
   ]
  },
  {
   "cell_type": "code",
   "execution_count": 6,
   "metadata": {},
   "outputs": [],
   "source": [
    "races = ['African','Asian','Caucasian','Indian']\n",
    "accuracies = {}\n",
    "for race in races:\n",
    "        accuracies[f\"{race}\"] = {'TP':0,'TN':0,'FP':0,'FN':0}\n",
    "        with open(f\"./lmks/{race}_lmks.csv\",'r') as f:\n",
    "            lines = f.readlines()\n",
    "        dist = []\n",
    "        labels = []\n",
    "        for line in lines:\n",
    "            arr = line.strip().split(',')\n",
    "            dist.append(float(arr[2]))\n",
    "            labels.append(int(arr[3]))\n",
    "            if float(arr[2]) < threshold:\n",
    "                with open(f\"./results/{race}_results.csv\",'a') as f:\n",
    "                    f.write(f\"{arr[0]},{arr[1]},0,{arr[3]}\\n\")\n",
    "                if int(arr[3]) == 1:\n",
    "                    accuracies[f\"{race}\"]['TN'] += 1\n",
    "                else:\n",
    "                    accuracies[f\"{race}\"]['FN'] += 1\n",
    "            else:\n",
    "                with open(f\"./results/{race}_results.csv\",'a') as f:\n",
    "                    f.write(f\"{arr[0]},{arr[1]},1,{arr[3]}\\n\")\n",
    "                if int(arr[3]) == 1:\n",
    "                    accuracies[f\"{race}\"]['TP'] += 1\n",
    "                else:\n",
    "                    accuracies[f\"{race}\"]['FP'] += 1\n",
    "        fpr, tpr, thresholds = roc_curve(labels,dist)\n",
    "        fpr = np.array(fpr)\n",
    "        tpr = np.array(tpr)\n",
    "        with open(f\"./roc/{race}_roc.npy\",'wb') as f:\n",
    "            np.save(f,fpr)\n",
    "            np.save(f,tpr)"
   ]
  },
  {
   "cell_type": "code",
   "execution_count": 7,
   "metadata": {},
   "outputs": [
    {
     "name": "stdout",
     "output_type": "stream",
     "text": [
      "{'African': {'TP': 3, 'TN': 2997, 'FP': 2, 'FN': 2998}, 'Asian': {'TP': 28, 'TN': 2972, 'FP': 12, 'FN': 2988}, 'Caucasian': {'TP': 60, 'TN': 2940, 'FP': 14, 'FN': 2986}, 'Indian': {'TP': 28, 'TN': 2972, 'FP': 11, 'FN': 2988}}\n"
     ]
    }
   ],
   "source": [
    "print(accuracies)"
   ]
  },
  {
   "cell_type": "code",
   "execution_count": 8,
   "metadata": {},
   "outputs": [],
   "source": [
    "gar = {}\n",
    "far = {}\n",
    "scores = {}\n",
    "for race in races:\n",
    "        tp = accuracies[f\"{race}\"]['TP']\n",
    "        tn = accuracies[f\"{race}\"]['TN']\n",
    "        fp = accuracies[f\"{race}\"]['FP']\n",
    "        fn = accuracies[f\"{race}\"]['FN']\n",
    "        gar[f\"{race}\"] = 100*tp/(tn+tp)\n",
    "        far[f\"{race}\"] = 100*fp/(fn+fp)\n",
    "        scores[f\"{race}\"] = 100*(fn+tp)/(fn+fp+tn+tp)"
   ]
  },
  {
   "cell_type": "code",
   "execution_count": 9,
   "metadata": {},
   "outputs": [
    {
     "data": {
      "text/plain": [
       "{'African': 0.1,\n",
       " 'Asian': 0.9333333333333333,\n",
       " 'Caucasian': 2.0,\n",
       " 'Indian': 0.9333333333333333}"
      ]
     },
     "execution_count": 9,
     "metadata": {},
     "output_type": "execute_result"
    }
   ],
   "source": [
    "gar"
   ]
  },
  {
   "cell_type": "code",
   "execution_count": 10,
   "metadata": {},
   "outputs": [
    {
     "data": {
      "text/plain": [
       "{'African': 0.06666666666666667,\n",
       " 'Asian': 0.4,\n",
       " 'Caucasian': 0.4666666666666667,\n",
       " 'Indian': 0.3667889296432144}"
      ]
     },
     "execution_count": 10,
     "metadata": {},
     "output_type": "execute_result"
    }
   ],
   "source": [
    "far"
   ]
  },
  {
   "cell_type": "code",
   "execution_count": 11,
   "metadata": {},
   "outputs": [
    {
     "data": {
      "text/plain": [
       "{'African': 50.016666666666666,\n",
       " 'Asian': 50.266666666666666,\n",
       " 'Caucasian': 50.766666666666666,\n",
       " 'Indian': 50.2750458409735}"
      ]
     },
     "execution_count": 11,
     "metadata": {},
     "output_type": "execute_result"
    }
   ],
   "source": [
    "scores"
   ]
  }
 ],
 "metadata": {
  "kernelspec": {
   "display_name": "Python 3",
   "language": "python",
   "name": "python3"
  },
  "language_info": {
   "codemirror_mode": {
    "name": "ipython",
    "version": 3
   },
   "file_extension": ".py",
   "mimetype": "text/x-python",
   "name": "python",
   "nbconvert_exporter": "python",
   "pygments_lexer": "ipython3",
   "version": "3.10.12"
  }
 },
 "nbformat": 4,
 "nbformat_minor": 2
}
