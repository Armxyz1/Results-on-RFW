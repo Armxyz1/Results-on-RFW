{
 "cells": [
  {
   "cell_type": "code",
   "execution_count": 5,
   "metadata": {},
   "outputs": [],
   "source": [
    "import torch\n",
    "import os\n",
    "import numpy as np\n",
    "from tqdm import tqdm\n",
    "from sklearn.metrics import roc_curve"
   ]
  },
  {
   "cell_type": "code",
   "execution_count": 6,
   "metadata": {},
   "outputs": [],
   "source": [
    "from shutil import copy2"
   ]
  },
  {
   "cell_type": "code",
   "execution_count": 7,
   "metadata": {},
   "outputs": [],
   "source": [
    "import matplotlib.pyplot as plt"
   ]
  },
  {
   "cell_type": "code",
   "execution_count": 8,
   "metadata": {},
   "outputs": [],
   "source": [
    "races = ['African','Asian','Caucasian','Indian']\n",
    "labels = []\n",
    "dist = []\n",
    "for race in races:\n",
    "        with open(f\"./sims/{race}_sims.csv\",'r') as f:\n",
    "            lines = f.readlines()\n",
    "        for line in lines:\n",
    "            arr = line.strip().split(',')\n",
    "            labels.append(int(arr[3]))\n",
    "            dist.append(float(arr[2]))"
   ]
  },
  {
   "cell_type": "code",
   "execution_count": 9,
   "metadata": {},
   "outputs": [
    {
     "name": "stdout",
     "output_type": "stream",
     "text": [
      "Threshold: 0.30249398946762085\n"
     ]
    }
   ],
   "source": [
    "fpr , tpr ,thresholds = roc_curve(labels,dist)\n",
    "idx = np.argmax(tpr-fpr)\n",
    "threshold = thresholds[idx]\n",
    "print(f\"Threshold: {threshold}\")"
   ]
  },
  {
   "cell_type": "code",
   "execution_count": 10,
   "metadata": {},
   "outputs": [],
   "source": [
    "races = ['African','Asian','Caucasian','Indian']\n",
    "accuracies = {}\n",
    "for race in races:\n",
    "        accuracies[f\"{race}\"] = {'TP':0,'TN':0,'FP':0,'FN':0}\n",
    "        with open(f\"./sims/{race}_sims.csv\",'r') as f:\n",
    "            lines = f.readlines()\n",
    "        dist = []\n",
    "        labels = []\n",
    "        for line in lines:\n",
    "            arr = line.strip().split(',')\n",
    "            dist.append(float(arr[2]))\n",
    "            labels.append(int(arr[3]))\n",
    "            if float(arr[2]) < threshold:\n",
    "                with open(f\"./results/{race}_results.csv\",'a') as f:\n",
    "                    f.write(f\"{arr[0]},{arr[1]},0,{arr[3]}\\n\")\n",
    "                if int(arr[3]) == 1:\n",
    "                    accuracies[f\"{race}\"]['TN'] += 1\n",
    "                else:\n",
    "                    accuracies[f\"{race}\"]['FN'] += 1\n",
    "            else:\n",
    "                with open(f\"./results/{race}_results.csv\",'a') as f:\n",
    "                    f.write(f\"{arr[0]},{arr[1]},1,{arr[3]}\\n\")\n",
    "                if int(arr[3]) == 1:\n",
    "                    accuracies[f\"{race}\"]['TP'] += 1\n",
    "                else:\n",
    "                    accuracies[f\"{race}\"]['FP'] += 1\n",
    "        fpr, tpr, thresholds = roc_curve(labels,dist)\n",
    "        fpr = np.array(fpr)\n",
    "        tpr = np.array(tpr)\n",
    "        with open(f\"./roc/{race}_roc.npy\",'wb') as f:\n",
    "            np.save(f,fpr)\n",
    "            np.save(f,tpr)"
   ]
  },
  {
   "cell_type": "code",
   "execution_count": 11,
   "metadata": {},
   "outputs": [
    {
     "name": "stdout",
     "output_type": "stream",
     "text": [
      "{'African': {'TP': 2964, 'TN': 36, 'FP': 32, 'FN': 2968}, 'Asian': {'TP': 2914, 'TN': 86, 'FP': 22, 'FN': 2978}, 'Caucasian': {'TP': 2928, 'TN': 72, 'FP': 1, 'FN': 2999}, 'Indian': {'TP': 2931, 'TN': 69, 'FP': 27, 'FN': 2972}}\n"
     ]
    }
   ],
   "source": [
    "print(accuracies)"
   ]
  },
  {
   "cell_type": "code",
   "execution_count": 12,
   "metadata": {},
   "outputs": [],
   "source": [
    "gar = {}\n",
    "far = {}\n",
    "scores = {}\n",
    "for race in races:\n",
    "        tp = accuracies[f\"{race}\"]['TP']\n",
    "        tn = accuracies[f\"{race}\"]['TN']\n",
    "        fp = accuracies[f\"{race}\"]['FP']\n",
    "        fn = accuracies[f\"{race}\"]['FN']\n",
    "        gar[f\"{race}\"] = tp/(tn+tp)\n",
    "        far[f\"{race}\"] = fp/(fn+fp)\n",
    "        scores[f\"{race}\"] = 100*(fn+tp)/(fn+fp+tn+tp)"
   ]
  },
  {
   "cell_type": "code",
   "execution_count": 13,
   "metadata": {},
   "outputs": [
    {
     "data": {
      "text/plain": [
       "{'African': 0.988,\n",
       " 'Asian': 0.9713333333333334,\n",
       " 'Caucasian': 0.976,\n",
       " 'Indian': 0.977}"
      ]
     },
     "execution_count": 13,
     "metadata": {},
     "output_type": "execute_result"
    }
   ],
   "source": [
    "gar"
   ]
  },
  {
   "cell_type": "code",
   "execution_count": 14,
   "metadata": {},
   "outputs": [
    {
     "data": {
      "text/plain": [
       "{'African': 0.010666666666666666,\n",
       " 'Asian': 0.007333333333333333,\n",
       " 'Caucasian': 0.0003333333333333333,\n",
       " 'Indian': 0.009003001000333445}"
      ]
     },
     "execution_count": 14,
     "metadata": {},
     "output_type": "execute_result"
    }
   ],
   "source": [
    "far"
   ]
  },
  {
   "cell_type": "code",
   "execution_count": 15,
   "metadata": {},
   "outputs": [
    {
     "data": {
      "text/plain": [
       "{'African': 98.86666666666666,\n",
       " 'Asian': 98.2,\n",
       " 'Caucasian': 98.78333333333333,\n",
       " 'Indian': 98.39973328888148}"
      ]
     },
     "execution_count": 15,
     "metadata": {},
     "output_type": "execute_result"
    }
   ],
   "source": [
    "scores"
   ]
  }
 ],
 "metadata": {
  "kernelspec": {
   "display_name": "Python 3",
   "language": "python",
   "name": "python3"
  },
  "language_info": {
   "codemirror_mode": {
    "name": "ipython",
    "version": 3
   },
   "file_extension": ".py",
   "mimetype": "text/x-python",
   "name": "python",
   "nbconvert_exporter": "python",
   "pygments_lexer": "ipython3",
   "version": "3.10.12"
  }
 },
 "nbformat": 4,
 "nbformat_minor": 2
}
