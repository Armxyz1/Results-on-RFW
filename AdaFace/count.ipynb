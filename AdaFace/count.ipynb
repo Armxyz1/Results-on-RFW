{
 "cells": [
  {
   "cell_type": "code",
   "execution_count": 5,
   "metadata": {},
   "outputs": [],
   "source": [
    "import torch\n",
    "import os\n",
    "import numpy as np\n",
    "from tqdm import tqdm\n",
    "from sklearn.metrics import roc_curve"
   ]
  },
  {
   "cell_type": "code",
   "execution_count": 6,
   "metadata": {},
   "outputs": [],
   "source": [
    "from shutil import copy2"
   ]
  },
  {
   "cell_type": "code",
   "execution_count": 7,
   "metadata": {},
   "outputs": [],
   "source": [
    "import matplotlib.pyplot as plt"
   ]
  },
  {
   "cell_type": "code",
   "execution_count": 8,
   "metadata": {},
   "outputs": [],
   "source": [
    "races = ['African','Asian','Caucasian','Indian']\n",
    "genders = ['Man','Woman']\n",
    "labels = []\n",
    "dist = []\n",
    "for race in races:\n",
    "    for gender in genders:\n",
    "        with open(f\"./sims/{race}_{gender}_sims.csv\",'r') as f:\n",
    "            lines = f.readlines()\n",
    "        for line in lines:\n",
    "            arr = line.strip().split(',')\n",
    "            labels.append(int(arr[3]))\n",
    "            dist.append(float(arr[2]))"
   ]
  },
  {
   "cell_type": "code",
   "execution_count": 9,
   "metadata": {},
   "outputs": [
    {
     "name": "stdout",
     "output_type": "stream",
     "text": [
      "Threshold: 0.30252805352211\n"
     ]
    }
   ],
   "source": [
    "fpr , tpr ,thresholds = roc_curve(labels,dist)\n",
    "idx = np.argmax(tpr-fpr)\n",
    "threshold = thresholds[idx]\n",
    "print(f\"Threshold: {threshold}\")"
   ]
  },
  {
   "cell_type": "code",
   "execution_count": 10,
   "metadata": {},
   "outputs": [],
   "source": [
    "races = ['African','Asian','Caucasian','Indian']\n",
    "genders = ['Man','Woman']\n",
    "accuracies = {}\n",
    "for race in races:\n",
    "    for gender in genders:\n",
    "        accuracies[f\"{race}_{gender}\"] = {'TP':0,'TN':0,'FP':0,'FN':0}\n",
    "        with open(f\"./sims/{race}_{gender}_sims.csv\",'r') as f:\n",
    "            lines = f.readlines()\n",
    "        dist = []\n",
    "        labels = []\n",
    "        for line in lines:\n",
    "            arr = line.strip().split(',')\n",
    "            dist.append(float(arr[2]))\n",
    "            labels.append(int(arr[3]))\n",
    "            if float(arr[2]) < threshold:\n",
    "                with open(f\"./results/{race}_{gender}_results.csv\",'a') as f:\n",
    "                    f.write(f\"{arr[0]},{arr[1]},0,{arr[3]}\\n\")\n",
    "                if int(arr[3]) == 1:\n",
    "                    accuracies[f\"{race}_{gender}\"]['TN'] += 1\n",
    "                else:\n",
    "                    accuracies[f\"{race}_{gender}\"]['FN'] += 1\n",
    "            else:\n",
    "                with open(f\"./results/{race}_{gender}_results.csv\",'a') as f:\n",
    "                    f.write(f\"{arr[0]},{arr[1]},1,{arr[3]}\\n\")\n",
    "                if int(arr[3]) == 1:\n",
    "                    accuracies[f\"{race}_{gender}\"]['TP'] += 1\n",
    "                else:\n",
    "                    accuracies[f\"{race}_{gender}\"]['FP'] += 1\n",
    "        fpr, tpr, thresholds = roc_curve(labels,dist)\n",
    "        fpr = np.array(fpr)\n",
    "        tpr = np.array(tpr)\n",
    "        with open(f\"./roc/{race}_{gender}_roc.npy\",'wb') as f:\n",
    "            np.save(f,fpr)\n",
    "            np.save(f,tpr)"
   ]
  },
  {
   "cell_type": "code",
   "execution_count": 11,
   "metadata": {},
   "outputs": [
    {
     "name": "stdout",
     "output_type": "stream",
     "text": [
      "{'African_Man': {'TP': 2906, 'TN': 33, 'FP': 32, 'FN': 2908}, 'African_Woman': {'TP': 58, 'TN': 3, 'FP': 0, 'FN': 60}, 'Asian_Man': {'TP': 2084, 'TN': 44, 'FP': 14, 'FN': 2117}, 'Asian_Woman': {'TP': 830, 'TN': 42, 'FP': 8, 'FN': 861}, 'Caucasian_Man': {'TP': 2205, 'TN': 48, 'FP': 0, 'FN': 2252}, 'Caucasian_Woman': {'TP': 723, 'TN': 24, 'FP': 1, 'FN': 747}, 'Indian_Man': {'TP': 2266, 'TN': 49, 'FP': 17, 'FN': 2300}, 'Indian_Woman': {'TP': 665, 'TN': 20, 'FP': 10, 'FN': 672}}\n"
     ]
    }
   ],
   "source": [
    "print(accuracies)"
   ]
  },
  {
   "cell_type": "code",
   "execution_count": 12,
   "metadata": {},
   "outputs": [],
   "source": [
    "gar = {}\n",
    "far = {}\n",
    "scores = {}\n",
    "for race in races:\n",
    "    for gender in genders:\n",
    "        tp = accuracies[f\"{race}_{gender}\"]['TP']\n",
    "        tn = accuracies[f\"{race}_{gender}\"]['TN']\n",
    "        fp = accuracies[f\"{race}_{gender}\"]['FP']\n",
    "        fn = accuracies[f\"{race}_{gender}\"]['FN']\n",
    "        gar[f\"{race}_{gender}\"] = tp/(tn+tp)\n",
    "        far[f\"{race}_{gender}\"] = fp/(fn+fp)\n",
    "        scores[f\"{race}_{gender}\"] = 100*(fn+tp)/(fn+fp+tn+tp)"
   ]
  },
  {
   "cell_type": "code",
   "execution_count": 13,
   "metadata": {},
   "outputs": [
    {
     "data": {
      "text/plain": [
       "{'African_Man': 0.988771691051378,\n",
       " 'African_Woman': 0.9508196721311475,\n",
       " 'Asian_Man': 0.9793233082706767,\n",
       " 'Asian_Woman': 0.9518348623853211,\n",
       " 'Caucasian_Man': 0.9786950732356857,\n",
       " 'Caucasian_Woman': 0.9678714859437751,\n",
       " 'Indian_Man': 0.9788336933045356,\n",
       " 'Indian_Woman': 0.9708029197080292}"
      ]
     },
     "execution_count": 13,
     "metadata": {},
     "output_type": "execute_result"
    }
   ],
   "source": [
    "gar"
   ]
  },
  {
   "cell_type": "code",
   "execution_count": 14,
   "metadata": {},
   "outputs": [
    {
     "data": {
      "text/plain": [
       "{'African_Man': 0.010884353741496598,\n",
       " 'African_Woman': 0.0,\n",
       " 'Asian_Man': 0.00656968559361802,\n",
       " 'Asian_Woman': 0.009205983889528193,\n",
       " 'Caucasian_Man': 0.0,\n",
       " 'Caucasian_Woman': 0.001336898395721925,\n",
       " 'Indian_Man': 0.0073370738023306,\n",
       " 'Indian_Woman': 0.01466275659824047}"
      ]
     },
     "execution_count": 14,
     "metadata": {},
     "output_type": "execute_result"
    }
   ],
   "source": [
    "far"
   ]
  },
  {
   "cell_type": "code",
   "execution_count": 15,
   "metadata": {},
   "outputs": [
    {
     "data": {
      "text/plain": [
       "{'African_Man': 98.89436979078074,\n",
       " 'African_Woman': 97.52066115702479,\n",
       " 'Asian_Man': 98.63817797605071,\n",
       " 'Asian_Woman': 97.12808730614589,\n",
       " 'Caucasian_Man': 98.93451720310766,\n",
       " 'Caucasian_Woman': 98.32775919732441,\n",
       " 'Indian_Man': 98.57512953367876,\n",
       " 'Indian_Woman': 97.8054133138259}"
      ]
     },
     "execution_count": 15,
     "metadata": {},
     "output_type": "execute_result"
    }
   ],
   "source": [
    "scores"
   ]
  }
 ],
 "metadata": {
  "kernelspec": {
   "display_name": "Python 3",
   "language": "python",
   "name": "python3"
  },
  "language_info": {
   "codemirror_mode": {
    "name": "ipython",
    "version": 3
   },
   "file_extension": ".py",
   "mimetype": "text/x-python",
   "name": "python",
   "nbconvert_exporter": "python",
   "pygments_lexer": "ipython3",
   "version": "3.10.12"
  }
 },
 "nbformat": 4,
 "nbformat_minor": 2
}
