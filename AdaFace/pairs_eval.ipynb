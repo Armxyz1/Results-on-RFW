{
 "cells": [
  {
   "cell_type": "code",
   "execution_count": 22,
   "metadata": {},
   "outputs": [],
   "source": [
    "import net\n",
    "import torch\n",
    "import os\n",
    "from face_alignment import align\n",
    "import numpy as np\n",
    "from tqdm import tqdm"
   ]
  },
  {
   "cell_type": "code",
   "execution_count": 23,
   "metadata": {},
   "outputs": [],
   "source": [
    "adaface_models = {\n",
    "    'ir_101':\"./models/adaface_ir101_webface12m.ckpt\",\n",
    "}\n",
    "\n",
    "def load_pretrained_model(architecture='ir_101'):\n",
    "    # load model and pretrained statedict\n",
    "    assert architecture in adaface_models.keys()\n",
    "    model = net.build_model(architecture)\n",
    "    statedict = torch.load(adaface_models[architecture])['state_dict']\n",
    "    model_statedict = {key[6:]:val for key, val in statedict.items() if key.startswith('model.')}\n",
    "    model.load_state_dict(model_statedict)\n",
    "    model = model.to('cuda')\n",
    "    model.eval()\n",
    "    return model\n",
    "model = load_pretrained_model()\n"
   ]
  },
  {
   "cell_type": "code",
   "execution_count": 24,
   "metadata": {},
   "outputs": [],
   "source": [
    "races = ['African','Asian','Caucasian','Indian']\n",
    "genders = ['Man','Woman']"
   ]
  },
  {
   "cell_type": "code",
   "execution_count": 25,
   "metadata": {},
   "outputs": [],
   "source": [
    "African_wom = os.listdir('../images/test/data/African/Woman')\n",
    "Caucasian_wom = os.listdir('../images/test/data/Caucasian/Woman')\n",
    "Asian_wom = os.listdir('../images/test/data/Asian/Woman')\n",
    "Indian_wom = os.listdir('../images/test/data/Indian/Woman')\n",
    "Asian_man = os.listdir('../images/test/data/Asian/Man')\n",
    "African_man = os.listdir('../images/test/data/African/Man')\n",
    "Caucasian_man = os.listdir('../images/test/data/Caucasian/Man')\n",
    "Indian_man = os.listdir('../images/test/data/Indian/Man')"
   ]
  },
  {
   "cell_type": "code",
   "execution_count": 26,
   "metadata": {},
   "outputs": [],
   "source": [
    "def to_input(pil_rgb_image):\n",
    "    np_img = np.array(pil_rgb_image)\n",
    "    brg_img = ((np_img/ 255.) - 0.5) / 0.5\n",
    "    tensor = torch.tensor(np.array([brg_img.transpose(2,0,1)])).float()\n",
    "    return tensor"
   ]
  },
  {
   "cell_type": "code",
   "execution_count": 27,
   "metadata": {},
   "outputs": [],
   "source": [
    "cache = {}"
   ]
  },
  {
   "cell_type": "code",
   "execution_count": 28,
   "metadata": {},
   "outputs": [
    {
     "name": "stderr",
     "output_type": "stream",
     "text": [
      "100%|██████████| 6000/6000 [02:01<00:00, 49.42it/s]\n",
      "100%|██████████| 6000/6000 [01:49<00:00, 54.65it/s] \n",
      "100%|██████████| 6000/6000 [06:38<00:00, 15.07it/s]\n",
      " 25%|██▌       | 1520/6000 [01:58<05:47, 12.91it/s]"
     ]
    },
    {
     "name": "stdout",
     "output_type": "stream",
     "text": [
      "['m.02r7h1g', '2', 'm.0bk56n', '5'] [Errno 2] No such file or directory: '../images/test/data/Just_Images/African/Man/m.0bk56n_0005.jpg'\n"
     ]
    },
    {
     "name": "stderr",
     "output_type": "stream",
     "text": [
      "100%|██████████| 6000/6000 [06:26<00:00, 15.54it/s]\n"
     ]
    }
   ],
   "source": [
    "for race in races:\n",
    "    with open(f\"../images/test/txts/{race}/{race}_pairs.txt\", 'r') as f:\n",
    "        pairs = f.readlines()\n",
    "    pairs = [pair.strip().split() for pair in pairs]\n",
    "    for pair in tqdm(pairs):\n",
    "        try:\n",
    "            if pair[0] in eval(f'{race}_wom'):\n",
    "                    gender = \"Woman\"\n",
    "            else:\n",
    "                    gender = \"Man\"\n",
    "            sim = 0\n",
    "            img1 = f\"../images/test/data/Just_Images/{race}/{gender}/{pair[0]}_000{pair[1]}.jpg\"\n",
    "            if len(pair) == 3:\n",
    "                img2 = f\"../images/test/data/Just_Images/{race}/{gender}/{pair[0]}_000{pair[2]}.jpg\"\n",
    "                sim = 1\n",
    "            else:\n",
    "                if pair[2] in African_wom or pair[2] in Caucasian_wom or pair[2] in Asian_wom or pair[2] in Indian_wom:\n",
    "                    gen2 = \"Woman\"\n",
    "                    if pair[2] in African_wom:\n",
    "                        race2 = \"African\"\n",
    "                    elif pair[2] in Caucasian_wom:\n",
    "                        race2 = \"Caucasian\"\n",
    "                    elif pair[2] in Asian_wom:\n",
    "                        race2 = \"Asian\"\n",
    "                    else:\n",
    "                        race2 = \"Indian\"\n",
    "                else:\n",
    "                    gen2 = \"Man\"\n",
    "                    if pair[2] in African_man:\n",
    "                        race2 = \"African\"\n",
    "                    elif pair[2] in Caucasian_man:\n",
    "                        race2 = \"Caucasian\"\n",
    "                    elif pair[2] in Asian_man:\n",
    "                        race2 = \"Asian\"\n",
    "                    else:\n",
    "                        race2 = \"Indian\"\n",
    "                img2 = f\"../images/test/data/Just_Images/{race2}/{gen2}/{pair[2]}_000{pair[3]}.jpg\"\n",
    "            if img1 in cache:\n",
    "                 vec1 = cache[img1]\n",
    "            else:\n",
    "                with torch.no_grad():\n",
    "                    vec1, _ = model(to_input(align.get_aligned_face(img1)).to('cuda'))\n",
    "                vec1 = vec1.cpu().detach().numpy()\n",
    "                vec1/=np.linalg.norm(vec1)\n",
    "                cache[img1] = vec1\n",
    "            if img2 in cache:\n",
    "                vec2 = cache[img2]\n",
    "            else:\n",
    "                with torch.no_grad():\n",
    "                    vec2, _ = model(to_input(align.get_aligned_face(img2)).to('cuda'))           \n",
    "                vec2 = vec2.cpu().detach().numpy()            \n",
    "                vec2/=np.linalg.norm(vec2)\n",
    "                cache[img2] = vec2\n",
    "            score = np.dot(vec1, vec2.T)[0][0]\n",
    "            with open(f\"./{race}_{gender}.csv\", 'a') as f:\n",
    "                f.write(f\"{img1},{img2},{score},{sim}\\n\")\n",
    "        except Exception as e:\n",
    "            print(pair, e)\n",
    "            continue"
   ]
  }
 ],
 "metadata": {
  "kernelspec": {
   "display_name": "base",
   "language": "python",
   "name": "python3"
  },
  "language_info": {
   "codemirror_mode": {
    "name": "ipython",
    "version": 3
   },
   "file_extension": ".py",
   "mimetype": "text/x-python",
   "name": "python",
   "nbconvert_exporter": "python",
   "pygments_lexer": "ipython3",
   "version": "3.10.12"
  }
 },
 "nbformat": 4,
 "nbformat_minor": 2
}
