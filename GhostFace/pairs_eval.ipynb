{
 "cells": [
  {
   "cell_type": "code",
   "execution_count": 8,
   "metadata": {},
   "outputs": [],
   "source": [
    "import cv2\n",
    "from PIL import Image\n",
    "from backbones.ghost_model import GhostNet\n",
    "import torch\n",
    "import os\n",
    "import numpy as np\n",
    "from tqdm import tqdm\n",
    "from face_alignment import align\n",
    "\n",
    "from tensorflow import keras\n",
    "import tensorflow as tf\n",
    "import matplotlib.pyplot as plt\n",
    "# import keras_cv_attention_models\n",
    "import GhostFaceNets, GhostFaceNets_with_Bias\n",
    "from tensorflow.python.ops.numpy_ops import np_config\n",
    "np_config.enable_numpy_behavior()"
   ]
  },
  {
   "cell_type": "code",
   "execution_count": 9,
   "metadata": {},
   "outputs": [
    {
     "name": "stdout",
     "output_type": "stream",
     "text": [
      "WARNING:tensorflow:No training configuration found in the save file, so the model was *not* compiled. Compile it manually.\n"
     ]
    }
   ],
   "source": [
    "gpus = tf.config.experimental.list_physical_devices(\"GPU\")\n",
    "for gpu in gpus:\n",
    "    tf.config.experimental.set_memory_growth(gpu, True)\n",
    "\n",
    "model = tf.keras.models.load_model('./models/GN_W1.3_S2_ArcFace_epoch48.h5')\n"
   ]
  },
  {
   "cell_type": "code",
   "execution_count": 10,
   "metadata": {},
   "outputs": [],
   "source": [
    "races = ['African','Asian','Caucasian','Indian']\n",
    "genders = ['Man','Woman']"
   ]
  },
  {
   "cell_type": "code",
   "execution_count": 11,
   "metadata": {},
   "outputs": [],
   "source": [
    "African_wom = os.listdir('../images/test/data/African/Woman')\n",
    "Caucasian_wom = os.listdir('../images/test/data/Caucasian/Woman')\n",
    "Asian_wom = os.listdir('../images/test/data/Asian/Woman')\n",
    "Indian_wom = os.listdir('../images/test/data/Indian/Woman')\n",
    "Asian_man = os.listdir('../images/test/data/Asian/Man')\n",
    "African_man = os.listdir('../images/test/data/African/Man')\n",
    "Caucasian_man = os.listdir('../images/test/data/Caucasian/Man')\n",
    "Indian_man = os.listdir('../images/test/data/Indian/Man')"
   ]
  },
  {
   "cell_type": "code",
   "execution_count": 12,
   "metadata": {},
   "outputs": [],
   "source": [
    "def to_input(pil_rgb_image):\n",
    "    np_img = np.array(pil_rgb_image)\n",
    "    brg_img = ((np_img/ 255.) - 0.5) / 0.5\n",
    "    tensor = tf.convert_to_tensor(np.array([brg_img.transpose(2,0,1)]))    \n",
    "    return tensor"
   ]
  },
  {
   "cell_type": "code",
   "execution_count": 13,
   "metadata": {},
   "outputs": [],
   "source": [
    "cache = {}"
   ]
  },
  {
   "cell_type": "code",
   "execution_count": 14,
   "metadata": {},
   "outputs": [
    {
     "name": "stderr",
     "output_type": "stream",
     "text": [
      "100%|██████████| 6000/6000 [12:34<00:00,  7.96it/s]\n",
      "100%|██████████| 6000/6000 [11:44<00:00,  8.52it/s]\n",
      "100%|██████████| 6000/6000 [12:22<00:00,  8.08it/s]\n",
      " 25%|██▌       | 1521/6000 [03:36<09:09,  8.16it/s]"
     ]
    },
    {
     "name": "stdout",
     "output_type": "stream",
     "text": [
      "['m.02r7h1g', '2', 'm.0bk56n', '5'] [Errno 2] No such file or directory: '../images/test/data/Just_Images/African/Man/m.0bk56n_0005.jpg'\n"
     ]
    },
    {
     "name": "stderr",
     "output_type": "stream",
     "text": [
      "100%|██████████| 6000/6000 [12:08<00:00,  8.24it/s]\n"
     ]
    }
   ],
   "source": [
    "for race in races:\n",
    "    landmark = {}\n",
    "    with open(f'../images/test/txts/{race}/{race}_lmk.txt') as f:\n",
    "        landmark_lines = f.readlines()\n",
    "    for line in landmark_lines:\n",
    "        l = line.strip().split()\n",
    "        landmark[l[0]] = [float(k) for k in l[2:]]\n",
    "    with open(f\"../images/test/txts/{race}/{race}_pairs.txt\", 'r') as f:\n",
    "        pairs = f.readlines()\n",
    "    pairs = [pair.strip().split() for pair in pairs]\n",
    "    for pair in tqdm(pairs):\n",
    "        try:\n",
    "            if pair[0] in eval(f'{race}_wom'):\n",
    "                    gender = \"Woman\"\n",
    "            else:\n",
    "                    gender = \"Man\"\n",
    "            sim = 0\n",
    "            img1 = f\"../images/test/data/Just_Images/{race}/{gender}/{pair[0]}_000{pair[1]}.jpg\"\n",
    "            if len(pair) == 3:\n",
    "                img2 = f\"../images/test/data/Just_Images/{race}/{gender}/{pair[0]}_000{pair[2]}.jpg\"\n",
    "                sim = 1\n",
    "            else:\n",
    "                if pair[2] in African_wom or pair[2] in Caucasian_wom or pair[2] in Asian_wom or pair[2] in Indian_wom:\n",
    "                    gen2 = \"Woman\"\n",
    "                    if pair[2] in African_wom:\n",
    "                        race2 = \"African\"\n",
    "                    elif pair[2] in Caucasian_wom:\n",
    "                        race2 = \"Caucasian\"\n",
    "                    elif pair[2] in Asian_wom:\n",
    "                        race2 = \"Asian\"\n",
    "                    else:\n",
    "                        race2 = \"Indian\"\n",
    "                else:\n",
    "                    gen2 = \"Man\"\n",
    "                    if pair[2] in African_man:\n",
    "                        race2 = \"African\"\n",
    "                    elif pair[2] in Caucasian_man:\n",
    "                        race2 = \"Caucasian\"\n",
    "                    elif pair[2] in Asian_man:\n",
    "                        race2 = \"Asian\"\n",
    "                    else:\n",
    "                        race2 = \"Indian\"\n",
    "                img2 = f\"../images/test/data/Just_Images/{race2}/{gen2}/{pair[2]}_000{pair[3]}.jpg\"\n",
    "            if img1 in cache:\n",
    "                 vec1 = cache[img1]\n",
    "            else:\n",
    "                with torch.no_grad():\n",
    "                    vec1 = model(np.array(to_input(align.get_aligned_face(img1))).transpose(0,2,3,1))\n",
    "                vec1/=np.linalg.norm(vec1)\n",
    "                cache[img1] = vec1\n",
    "            if img2 in cache:\n",
    "                vec2 = cache[img2]\n",
    "            else:\n",
    "                with torch.no_grad():\n",
    "                    \n",
    "                    vec2 = model(np.array(to_input(align.get_aligned_face(img2))).transpose(0,2,3,1))          \n",
    "                vec2/=np.linalg.norm(vec2)\n",
    "                cache[img2] = vec2\n",
    "            if img1 not in cache:\n",
    "                    cache[img1] = vec1\n",
    "            if img2 not in cache:\n",
    "                    cache[img2] = vec2\n",
    "            score = np.dot(vec1, vec2.T)[0][0]\n",
    "            with open(f\"./{race}_{gender}.csv\", 'a') as f:\n",
    "                f.write(f\"{img1},{img2},{score},{sim}\\n\")\n",
    "        except Exception as e:\n",
    "            print(pair, e)\n",
    "            continue"
   ]
  }
 ],
 "metadata": {
  "kernelspec": {
   "display_name": "base",
   "language": "python",
   "name": "python3"
  },
  "language_info": {
   "codemirror_mode": {
    "name": "ipython",
    "version": 3
   },
   "file_extension": ".py",
   "mimetype": "text/x-python",
   "name": "python",
   "nbconvert_exporter": "python",
   "pygments_lexer": "ipython3",
   "version": "3.10.12"
  }
 },
 "nbformat": 4,
 "nbformat_minor": 2
}
