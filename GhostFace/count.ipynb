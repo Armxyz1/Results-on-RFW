{
 "cells": [
  {
   "cell_type": "code",
   "execution_count": 49,
   "metadata": {},
   "outputs": [],
   "source": [
    "import torch\n",
    "import os\n",
    "import numpy as np\n",
    "from tqdm import tqdm\n",
    "from sklearn.metrics import roc_curve"
   ]
  },
  {
   "cell_type": "code",
   "execution_count": 50,
   "metadata": {},
   "outputs": [],
   "source": [
    "from shutil import copy2"
   ]
  },
  {
   "cell_type": "code",
   "execution_count": 51,
   "metadata": {},
   "outputs": [],
   "source": [
    "import matplotlib.pyplot as plt"
   ]
  },
  {
   "cell_type": "code",
   "execution_count": 52,
   "metadata": {},
   "outputs": [],
   "source": [
    "races = ['African','Asian','Caucasian','Indian']\n",
    "genders = ['Man','Woman']\n",
    "labels = []\n",
    "dist = []\n",
    "for race in races:\n",
    "    for gender in genders:\n",
    "        with open(f\"./sims/{race}_{gender}_sims.csv\",'r') as f:\n",
    "            lines = f.readlines()\n",
    "        for line in lines:\n",
    "            arr = line.strip().split(',')\n",
    "            labels.append(int(arr[3]))\n",
    "            dist.append(float(arr[2]))"
   ]
  },
  {
   "cell_type": "code",
   "execution_count": 53,
   "metadata": {},
   "outputs": [
    {
     "name": "stdout",
     "output_type": "stream",
     "text": [
      "Threshold: 0.23402979969978333\n"
     ]
    }
   ],
   "source": [
    "fpr , tpr ,thresholds = roc_curve(labels,dist)\n",
    "idx = np.argmax(tpr-fpr)\n",
    "threshold = thresholds[idx]\n",
    "print(f\"Threshold: {threshold}\")"
   ]
  },
  {
   "cell_type": "code",
   "execution_count": 54,
   "metadata": {},
   "outputs": [],
   "source": [
    "races = ['African','Asian','Caucasian','Indian']\n",
    "genders = ['Man','Woman']\n",
    "accuracies = {}\n",
    "for race in races:\n",
    "    for gender in genders:\n",
    "        accuracies[f\"{race}_{gender}\"] = {'TP':0,'TN':0,'FP':0,'FN':0}\n",
    "        with open(f\"./sims/{race}_{gender}_sims.csv\",'r') as f:\n",
    "            lines = f.readlines()\n",
    "        dist = []\n",
    "        labels = []\n",
    "        for line in lines:\n",
    "            arr = line.strip().split(',')\n",
    "            dist.append(float(arr[2]))\n",
    "            labels.append(int(arr[3]))\n",
    "            if float(arr[2]) < threshold:\n",
    "                with open(f\"./results/{race}_{gender}_results.csv\",'a') as f:\n",
    "                    f.write(f\"{arr[0]},{arr[1]},0,{arr[3]}\\n\")\n",
    "                if int(arr[3]) == 1:\n",
    "                    accuracies[f\"{race}_{gender}\"]['TN'] += 1\n",
    "                else:\n",
    "                    accuracies[f\"{race}_{gender}\"]['FN'] += 1\n",
    "            else:\n",
    "                with open(f\"./results/{race}_{gender}_results.csv\",'a') as f:\n",
    "                    f.write(f\"{arr[0]},{arr[1]},1,{arr[3]}\\n\")\n",
    "                if int(arr[3]) == 1:\n",
    "                    accuracies[f\"{race}_{gender}\"]['TP'] += 1\n",
    "                else:\n",
    "                    accuracies[f\"{race}_{gender}\"]['FP'] += 1\n",
    "        fpr, tpr, thresholds = roc_curve(labels,dist)\n",
    "        fpr = np.array(fpr)\n",
    "        tpr = np.array(tpr)\n",
    "        with open(f\"./roc/{race}_{gender}_roc.npy\",'wb') as f:\n",
    "            np.save(f,fpr)\n",
    "            np.save(f,tpr)"
   ]
  },
  {
   "cell_type": "code",
   "execution_count": 55,
   "metadata": {},
   "outputs": [
    {
     "name": "stdout",
     "output_type": "stream",
     "text": [
      "{'African_Man': {'TP': 2240, 'TN': 699, 'FP': 770, 'FN': 2170}, 'African_Woman': {'TP': 47, 'TN': 14, 'FP': 8, 'FN': 52}, 'Asian_Man': {'TP': 1635, 'TN': 493, 'FP': 372, 'FN': 1759}, 'Asian_Woman': {'TP': 619, 'TN': 253, 'FP': 187, 'FN': 682}, 'Caucasian_Man': {'TP': 1716, 'TN': 537, 'FP': 202, 'FN': 2050}, 'Caucasian_Woman': {'TP': 552, 'TN': 195, 'FP': 67, 'FN': 681}, 'Indian_Man': {'TP': 1890, 'TN': 425, 'FP': 479, 'FN': 1838}, 'Indian_Woman': {'TP': 539, 'TN': 146, 'FP': 153, 'FN': 529}}\n"
     ]
    }
   ],
   "source": [
    "print(accuracies)"
   ]
  },
  {
   "cell_type": "code",
   "execution_count": 56,
   "metadata": {},
   "outputs": [],
   "source": [
    "gar = {}\n",
    "far = {}\n",
    "scores = {}\n",
    "for race in races:\n",
    "    for gender in genders:\n",
    "        tp = accuracies[f\"{race}_{gender}\"]['TP']\n",
    "        tn = accuracies[f\"{race}_{gender}\"]['TN']\n",
    "        fp = accuracies[f\"{race}_{gender}\"]['FP']\n",
    "        fn = accuracies[f\"{race}_{gender}\"]['FN']\n",
    "        gar[f\"{race}_{gender}\"] = tp/(tn+tp)\n",
    "        far[f\"{race}_{gender}\"] = fp/(fn+fp)\n",
    "        scores[f\"{race}_{gender}\"] = 100*(fn+tp)/(fn+fp+tn+tp)"
   ]
  },
  {
   "cell_type": "code",
   "execution_count": 57,
   "metadata": {},
   "outputs": [
    {
     "data": {
      "text/plain": [
       "{'African_Man': 0.7621640013610071,\n",
       " 'African_Woman': 0.7704918032786885,\n",
       " 'Asian_Man': 0.7683270676691729,\n",
       " 'Asian_Woman': 0.7098623853211009,\n",
       " 'Caucasian_Man': 0.7616511318242344,\n",
       " 'Caucasian_Woman': 0.7389558232931727,\n",
       " 'Indian_Man': 0.816414686825054,\n",
       " 'Indian_Woman': 0.7868613138686131}"
      ]
     },
     "execution_count": 57,
     "metadata": {},
     "output_type": "execute_result"
    }
   ],
   "source": [
    "gar"
   ]
  },
  {
   "cell_type": "code",
   "execution_count": 58,
   "metadata": {},
   "outputs": [
    {
     "data": {
      "text/plain": [
       "{'African_Man': 0.2619047619047619,\n",
       " 'African_Woman': 0.13333333333333333,\n",
       " 'Asian_Man': 0.17456593148756452,\n",
       " 'Asian_Woman': 0.21518987341772153,\n",
       " 'Caucasian_Man': 0.08969804618117229,\n",
       " 'Caucasian_Woman': 0.08957219251336898,\n",
       " 'Indian_Man': 0.20673284419507984,\n",
       " 'Indian_Woman': 0.22434017595307917}"
      ]
     },
     "execution_count": 58,
     "metadata": {},
     "output_type": "execute_result"
    }
   ],
   "source": [
    "far"
   ]
  },
  {
   "cell_type": "code",
   "execution_count": 59,
   "metadata": {},
   "outputs": [
    {
     "data": {
      "text/plain": [
       "{'African_Man': 75.01275727164484,\n",
       " 'African_Woman': 81.81818181818181,\n",
       " 'Asian_Man': 79.6900680911012,\n",
       " 'Asian_Woman': 74.72716829408385,\n",
       " 'Caucasian_Man': 83.59600443951166,\n",
       " 'Caucasian_Woman': 82.47491638795987,\n",
       " 'Indian_Man': 80.48359240069085,\n",
       " 'Indian_Woman': 78.12728602779809}"
      ]
     },
     "execution_count": 59,
     "metadata": {},
     "output_type": "execute_result"
    }
   ],
   "source": [
    "scores"
   ]
  }
 ],
 "metadata": {
  "kernelspec": {
   "display_name": "Python 3",
   "language": "python",
   "name": "python3"
  },
  "language_info": {
   "codemirror_mode": {
    "name": "ipython",
    "version": 3
   },
   "file_extension": ".py",
   "mimetype": "text/x-python",
   "name": "python",
   "nbconvert_exporter": "python",
   "pygments_lexer": "ipython3",
   "version": "3.10.12"
  }
 },
 "nbformat": 4,
 "nbformat_minor": 2
}
