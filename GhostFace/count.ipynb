{
 "cells": [
  {
   "cell_type": "code",
   "execution_count": 5,
   "metadata": {},
   "outputs": [],
   "source": [
    "import torch\n",
    "import os\n",
    "import numpy as np\n",
    "from tqdm import tqdm\n",
    "from sklearn.metrics import roc_curve"
   ]
  },
  {
   "cell_type": "code",
   "execution_count": 6,
   "metadata": {},
   "outputs": [],
   "source": [
    "from shutil import copy2"
   ]
  },
  {
   "cell_type": "code",
   "execution_count": 7,
   "metadata": {},
   "outputs": [],
   "source": [
    "import matplotlib.pyplot as plt"
   ]
  },
  {
   "cell_type": "code",
   "execution_count": 8,
   "metadata": {},
   "outputs": [],
   "source": [
    "races = ['African','Asian','Caucasian','Indian']\n",
    "genders = ['Man','Woman']\n",
    "labels = []\n",
    "dist = []\n",
    "for race in races:\n",
    "    for gender in genders:\n",
    "        with open(f\"./sims/{race}_{gender}_sims.csv\",'r') as f:\n",
    "            lines = f.readlines()\n",
    "        for line in lines:\n",
    "            arr = line.strip().split(',')\n",
    "            labels.append(int(arr[3]))\n",
    "            dist.append(float(arr[2]))"
   ]
  },
  {
   "cell_type": "code",
   "execution_count": 9,
   "metadata": {},
   "outputs": [
    {
     "name": "stdout",
     "output_type": "stream",
     "text": [
      "Threshold: 0.5354980230331421\n"
     ]
    }
   ],
   "source": [
    "fpr , tpr ,thresholds = roc_curve(labels,dist)\n",
    "idx = np.argmax(tpr-fpr)\n",
    "threshold = thresholds[idx]\n",
    "print(f\"Threshold: {threshold}\")"
   ]
  },
  {
   "cell_type": "code",
   "execution_count": 10,
   "metadata": {},
   "outputs": [],
   "source": [
    "races = ['African','Asian','Caucasian','Indian']\n",
    "genders = ['Man','Woman']\n",
    "accuracies = {}\n",
    "for race in races:\n",
    "    for gender in genders:\n",
    "        accuracies[f\"{race}_{gender}\"] = {'TP':0,'TN':0,'FP':0,'FN':0}\n",
    "        with open(f\"./sims/{race}_{gender}_sims.csv\",'r') as f:\n",
    "            lines = f.readlines()\n",
    "        dist = []\n",
    "        labels = []\n",
    "        for line in lines:\n",
    "            arr = line.strip().split(',')\n",
    "            dist.append(float(arr[2]))\n",
    "            labels.append(int(arr[3]))\n",
    "            if float(arr[2]) < threshold:\n",
    "                with open(f\"./results/{race}_{gender}_results.csv\",'a') as f:\n",
    "                    f.write(f\"{arr[0]},{arr[1]},0,{arr[3]}\\n\")\n",
    "                if int(arr[3]) == 1:\n",
    "                    accuracies[f\"{race}_{gender}\"]['TN'] += 1\n",
    "                else:\n",
    "                    accuracies[f\"{race}_{gender}\"]['FN'] += 1\n",
    "            else:\n",
    "                with open(f\"./results/{race}_{gender}_results.csv\",'a') as f:\n",
    "                    f.write(f\"{arr[0]},{arr[1]},1,{arr[3]}\\n\")\n",
    "                if int(arr[3]) == 1:\n",
    "                    accuracies[f\"{race}_{gender}\"]['TP'] += 1\n",
    "                else:\n",
    "                    accuracies[f\"{race}_{gender}\"]['FP'] += 1\n",
    "        fpr, tpr, thresholds = roc_curve(labels,dist)\n",
    "        fpr = np.array(fpr)\n",
    "        tpr = np.array(tpr)\n",
    "        with open(f\"./roc/{race}_{gender}_roc.npy\",'wb') as f:\n",
    "            np.save(f,fpr)\n",
    "            np.save(f,tpr)"
   ]
  },
  {
   "cell_type": "code",
   "execution_count": 11,
   "metadata": {},
   "outputs": [
    {
     "name": "stdout",
     "output_type": "stream",
     "text": [
      "{'African_Man': {'TP': 924, 'TN': 2015, 'FP': 900, 'FN': 2040}, 'African_Woman': {'TP': 26, 'TN': 35, 'FP': 15, 'FN': 45}, 'Asian_Man': {'TP': 941, 'TN': 1187, 'FP': 813, 'FN': 1318}, 'Asian_Woman': {'TP': 472, 'TN': 400, 'FP': 403, 'FN': 466}, 'Caucasian_Man': {'TP': 960, 'TN': 1293, 'FP': 834, 'FN': 1418}, 'Caucasian_Woman': {'TP': 474, 'TN': 273, 'FP': 290, 'FN': 458}, 'Indian_Man': {'TP': 1012, 'TN': 1303, 'FP': 844, 'FN': 1473}, 'Indian_Woman': {'TP': 443, 'TN': 242, 'FP': 396, 'FN': 286}}\n"
     ]
    }
   ],
   "source": [
    "print(accuracies)"
   ]
  },
  {
   "cell_type": "code",
   "execution_count": 12,
   "metadata": {},
   "outputs": [],
   "source": [
    "gar = {}\n",
    "far = {}\n",
    "scores = {}\n",
    "for race in races:\n",
    "    for gender in genders:\n",
    "        tp = accuracies[f\"{race}_{gender}\"]['TP']\n",
    "        tn = accuracies[f\"{race}_{gender}\"]['TN']\n",
    "        fp = accuracies[f\"{race}_{gender}\"]['FP']\n",
    "        fn = accuracies[f\"{race}_{gender}\"]['FN']\n",
    "        gar[f\"{race}_{gender}\"] = tp/(tn+tp)\n",
    "        far[f\"{race}_{gender}\"] = fp/(fn+fp)\n",
    "        scores[f\"{race}_{gender}\"] = 100*(fn+tp)/(fn+fp+tn+tp)"
   ]
  },
  {
   "cell_type": "code",
   "execution_count": 13,
   "metadata": {},
   "outputs": [
    {
     "data": {
      "text/plain": [
       "{'African_Man': 0.31439265056141547,\n",
       " 'African_Woman': 0.4262295081967213,\n",
       " 'Asian_Man': 0.44219924812030076,\n",
       " 'Asian_Woman': 0.5412844036697247,\n",
       " 'Caucasian_Man': 0.42609853528628494,\n",
       " 'Caucasian_Woman': 0.6345381526104418,\n",
       " 'Indian_Man': 0.4371490280777538,\n",
       " 'Indian_Woman': 0.6467153284671533}"
      ]
     },
     "execution_count": 13,
     "metadata": {},
     "output_type": "execute_result"
    }
   ],
   "source": [
    "gar"
   ]
  },
  {
   "cell_type": "code",
   "execution_count": 14,
   "metadata": {},
   "outputs": [
    {
     "data": {
      "text/plain": [
       "{'African_Man': 0.30612244897959184,\n",
       " 'African_Woman': 0.25,\n",
       " 'Asian_Man': 0.38151102768653217,\n",
       " 'Asian_Woman': 0.46375143843498273,\n",
       " 'Caucasian_Man': 0.3703374777975133,\n",
       " 'Caucasian_Woman': 0.3877005347593583,\n",
       " 'Indian_Man': 0.3642641346568839,\n",
       " 'Indian_Woman': 0.5806451612903226}"
      ]
     },
     "execution_count": 14,
     "metadata": {},
     "output_type": "execute_result"
    }
   ],
   "source": [
    "far"
   ]
  },
  {
   "cell_type": "code",
   "execution_count": 15,
   "metadata": {},
   "outputs": [
    {
     "data": {
      "text/plain": [
       "{'African_Man': 50.416737540398024,\n",
       " 'African_Woman': 58.67768595041322,\n",
       " 'Asian_Man': 53.040619863817795,\n",
       " 'Asian_Woman': 53.877082136703045,\n",
       " 'Caucasian_Man': 52.7857935627081,\n",
       " 'Caucasian_Woman': 62.34113712374582,\n",
       " 'Indian_Man': 53.64853195164076,\n",
       " 'Indian_Woman': 53.32845647403072}"
      ]
     },
     "execution_count": 15,
     "metadata": {},
     "output_type": "execute_result"
    }
   ],
   "source": [
    "scores"
   ]
  }
 ],
 "metadata": {
  "kernelspec": {
   "display_name": "Python 3",
   "language": "python",
   "name": "python3"
  },
  "language_info": {
   "codemirror_mode": {
    "name": "ipython",
    "version": 3
   },
   "file_extension": ".py",
   "mimetype": "text/x-python",
   "name": "python",
   "nbconvert_exporter": "python",
   "pygments_lexer": "ipython3",
   "version": "3.10.12"
  }
 },
 "nbformat": 4,
 "nbformat_minor": 2
}
