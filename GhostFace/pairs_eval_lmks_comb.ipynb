{
 "cells": [
  {
   "cell_type": "code",
   "execution_count": 1,
   "metadata": {},
   "outputs": [
    {
     "name": "stderr",
     "output_type": "stream",
     "text": [
      "2024-07-23 12:29:24.550467: I tensorflow/core/util/port.cc:110] oneDNN custom operations are on. You may see slightly different numerical results due to floating-point round-off errors from different computation orders. To turn them off, set the environment variable `TF_ENABLE_ONEDNN_OPTS=0`.\n",
      "2024-07-23 12:29:24.578364: I tensorflow/tsl/cuda/cudart_stub.cc:28] Could not find cuda drivers on your machine, GPU will not be used.\n",
      "2024-07-23 12:29:24.776397: I tensorflow/tsl/cuda/cudart_stub.cc:28] Could not find cuda drivers on your machine, GPU will not be used.\n",
      "2024-07-23 12:29:24.777163: I tensorflow/core/platform/cpu_feature_guard.cc:182] This TensorFlow binary is optimized to use available CPU instructions in performance-critical operations.\n",
      "To enable the following instructions: AVX2 AVX_VNNI FMA, in other operations, rebuild TensorFlow with the appropriate compiler flags.\n",
      "2024-07-23 12:29:26.628181: W tensorflow/compiler/tf2tensorrt/utils/py_utils.cc:38] TF-TRT Warning: Could not find TensorRT\n"
     ]
    }
   ],
   "source": [
    "import cv2\n",
    "from PIL import Image\n",
    "from backbones.ghost_model import GhostNet\n",
    "import torch\n",
    "import os\n",
    "import numpy as np\n",
    "from tqdm import tqdm\n",
    "from face_alignment import align\n",
    "\n",
    "from tensorflow import keras\n",
    "import tensorflow as tf\n",
    "import matplotlib.pyplot as plt\n",
    "# import keras_cv_attention_models\n",
    "import GhostFaceNets, GhostFaceNets_with_Bias\n",
    "from tensorflow.python.ops.numpy_ops import np_config\n",
    "np_config.enable_numpy_behavior()\n",
    "from matlab_cp2tform import get_similarity_transform_for_cv2\n"
   ]
  },
  {
   "cell_type": "code",
   "execution_count": 2,
   "metadata": {},
   "outputs": [
    {
     "name": "stderr",
     "output_type": "stream",
     "text": [
      "2024-07-23 12:29:32.016743: I tensorflow/compiler/xla/stream_executor/cuda/cuda_gpu_executor.cc:996] successful NUMA node read from SysFS had negative value (-1), but there must be at least one NUMA node, so returning NUMA node zero. See more at https://github.com/torvalds/linux/blob/v6.0/Documentation/ABI/testing/sysfs-bus-pci#L344-L355\n",
      "2024-07-23 12:29:32.017078: W tensorflow/core/common_runtime/gpu/gpu_device.cc:1956] Cannot dlopen some GPU libraries. Please make sure the missing libraries mentioned above are installed properly if you would like to use GPU. Follow the guide at https://www.tensorflow.org/install/gpu for how to download and setup the required libraries for your platform.\n",
      "Skipping registering GPU devices...\n"
     ]
    }
   ],
   "source": [
    "gpus = tf.config.experimental.list_physical_devices(\"GPU\")\n",
    "for gpu in gpus:\n",
    "    tf.config.experimental.set_memory_growth(gpu, True)\n",
    "\n",
    "model = tf.keras.models.load_model('./models/GN_W1.3_S2_ArcFace_epoch48.h5', compile=False)\n",
    "model.compile()\n"
   ]
  },
  {
   "cell_type": "code",
   "execution_count": 3,
   "metadata": {},
   "outputs": [],
   "source": [
    "races = ['African','Asian','Caucasian','Indian']\n",
    "genders = ['Man','Woman']"
   ]
  },
  {
   "cell_type": "code",
   "execution_count": 4,
   "metadata": {},
   "outputs": [],
   "source": [
    "African_wom = os.listdir('../images/test/data/African/Woman')\n",
    "Caucasian_wom = os.listdir('../images/test/data/Caucasian/Woman')\n",
    "Asian_wom = os.listdir('../images/test/data/Asian/Woman')\n",
    "Indian_wom = os.listdir('../images/test/data/Indian/Woman')\n",
    "Asian_man = os.listdir('../images/test/data/Asian/Man')\n",
    "African_man = os.listdir('../images/test/data/African/Man')\n",
    "Caucasian_man = os.listdir('../images/test/data/Caucasian/Man')\n",
    "Indian_man = os.listdir('../images/test/data/Indian/Man')"
   ]
  },
  {
   "cell_type": "code",
   "execution_count": 5,
   "metadata": {},
   "outputs": [],
   "source": [
    "def to_input(pil_rgb_image):\n",
    "    np_img = np.array(pil_rgb_image)\n",
    "    brg_img = ((np_img/ 255.) - 0.5) / 0.5\n",
    "    tensor = tf.convert_to_tensor(np.array([brg_img.transpose(2,0,1)]))    \n",
    "    return tensor"
   ]
  },
  {
   "cell_type": "code",
   "execution_count": 6,
   "metadata": {},
   "outputs": [],
   "source": [
    "cache = {}"
   ]
  },
  {
   "cell_type": "code",
   "execution_count": 7,
   "metadata": {},
   "outputs": [],
   "source": [
    "def alignment(src_img,src_pts):\n",
    "    ref_pts = [ [30.2946, 51.6963],[65.5318, 51.5014],\n",
    "        [48.0252, 71.7366],[33.5493, 92.3655],[62.7299, 92.2041] ]\n",
    "    crop_size = (96, 112)\n",
    "    src_pts = np.array(src_pts).reshape(5,2)\n",
    "\n",
    "    s = np.array(src_pts).astype(np.float32)\n",
    "    r = np.array(ref_pts).astype(np.float32)\n",
    "\n",
    "    tfm = get_similarity_transform_for_cv2(s, r)\n",
    "    face_img = cv2.warpAffine(src_img, tfm, crop_size)\n",
    "    return face_img\n"
   ]
  },
  {
   "cell_type": "code",
   "execution_count": 8,
   "metadata": {},
   "outputs": [
    {
     "name": "stderr",
     "output_type": "stream",
     "text": [
      "  0%|          | 0/6000 [00:00<?, ?it/s]/home/dysl-ai/Desktop/Results-on-RFW/GhostFace/matlab_cp2tform.py:50: FutureWarning: `rcond` parameter will change to the default of machine precision times ``max(M, N)`` where M and N are the input matrix dimensions.\n",
      "To use the future default and silence this warning we advise to pass `rcond=None`, to keep using the old, explicitly pass `rcond=-1`.\n",
      "  r, _, _, _ = lstsq(X, U)\n",
      "100%|██████████| 6000/6000 [45:04<00:00,  2.22it/s] \n",
      "100%|██████████| 6000/6000 [10:43<00:00,  9.33it/s]\n",
      "100%|██████████| 6000/6000 [11:10<00:00,  8.95it/s]\n",
      " 25%|██▌       | 1518/6000 [03:14<09:15,  8.07it/s][ WARN:0@4223.832] global loadsave.cpp:241 findDecoder imread_('../images/test/data/Just_Images/African/Man/m.0bk56n_0005.jpg'): can't open/read file: check file path/integrity\n",
      " 25%|██▌       | 1520/6000 [03:14<07:23, 10.11it/s]"
     ]
    },
    {
     "name": "stdout",
     "output_type": "stream",
     "text": [
      "['m.02r7h1g', '2', 'm.0bk56n', '5'] OpenCV(4.10.0) /io/opencv/modules/imgproc/src/imgwarp.cpp:2825: error: (-215:Assertion failed) src.cols > 0 && src.rows > 0 in function 'warpAffine'\n",
      "\n"
     ]
    },
    {
     "name": "stderr",
     "output_type": "stream",
     "text": [
      "100%|██████████| 6000/6000 [11:17<00:00,  8.85it/s]\n"
     ]
    }
   ],
   "source": [
    "for race in races:\n",
    "    landmark = {}\n",
    "    with open(f'../images/test/txts/{race}/{race}_lmk.txt') as f:\n",
    "        landmark_lines = f.readlines()\n",
    "    for line in landmark_lines:\n",
    "        l = line.strip().split()\n",
    "        landmark[l[0]] = [float(k) for k in l[2:]]\n",
    "    with open(f\"../images/test/txts/{race}/{race}_pairs.txt\", 'r') as f:\n",
    "        pairs = f.readlines()\n",
    "    pairs = [pair.strip().split() for pair in pairs]\n",
    "    for pair in tqdm(pairs):\n",
    "        try:\n",
    "            race2 = None\n",
    "            gen2 = None\n",
    "            if pair[0] in eval(f'{race}_wom'):\n",
    "                    gender = \"Woman\"\n",
    "            else:\n",
    "                    gender = \"Man\"\n",
    "            sim = 0\n",
    "            img1 = f\"../images/test/data/Just_Images/{race}/{gender}/{pair[0]}_000{pair[1]}.jpg\"\n",
    "            if len(pair) == 3:\n",
    "                img2 = f\"../images/test/data/Just_Images/{race}/{gender}/{pair[0]}_000{pair[2]}.jpg\"\n",
    "                sim = 1\n",
    "                name1 = pair[0]+'/'+pair[0]+'_'+'{:04}.jpg'.format(int(pair[1]))\n",
    "                name2 = pair[0]+'/'+pair[0]+'_'+'{:04}.jpg'.format(int(pair[2]))\n",
    "            else:\n",
    "                if pair[2] in African_wom or pair[2] in Caucasian_wom or pair[2] in Asian_wom or pair[2] in Indian_wom:\n",
    "                    gen2 = \"Woman\"\n",
    "                    if pair[2] in African_wom:\n",
    "                        race2 = \"African\"\n",
    "                    elif pair[2] in Caucasian_wom:\n",
    "                        race2 = \"Caucasian\"\n",
    "                    elif pair[2] in Asian_wom:\n",
    "                        race2 = \"Asian\"\n",
    "                    else:\n",
    "                        race2 = \"Indian\"\n",
    "                else:\n",
    "                    gen2 = \"Man\"\n",
    "                    if pair[2] in African_man:\n",
    "                        race2 = \"African\"\n",
    "                    elif pair[2] in Caucasian_man:\n",
    "                        race2 = \"Caucasian\"\n",
    "                    elif pair[2] in Asian_man:\n",
    "                        race2 = \"Asian\"\n",
    "                    else:\n",
    "                        race2 = \"Indian\"\n",
    "                img2 = f\"../images/test/data/Just_Images/{race2}/{gen2}/{pair[2]}_000{pair[3]}.jpg\"\n",
    "                name1 = pair[0]+'/'+pair[0]+'_'+'{:04}.jpg'.format(int(pair[1]))\n",
    "                name2 = pair[2]+'/'+pair[2]+'_'+'{:04}.jpg'.format(int(pair[3]))\n",
    "            if img1 in cache:\n",
    "                 vec1 = cache[img1]\n",
    "            else:\n",
    "                with torch.no_grad():\n",
    "                    vec1 = model(np.expand_dims(np.array(cv2.resize(alignment(cv2.imread(img1),landmark[f\"/test/data/{race}/{name1}\"]),(112,112))),axis=0))\n",
    "                vec1/=np.linalg.norm(vec1)\n",
    "                cache[img1] = vec1\n",
    "            if img2 in cache:\n",
    "                vec2 = cache[img2]\n",
    "            else:\n",
    "                with torch.no_grad():\n",
    "                    vec2 = model(np.expand_dims(np.array(cv2.resize(alignment(cv2.imread(img2),landmark[f\"/test/data/{race}/{name2}\"]),(112,112))),axis=0))        \n",
    "                vec2/=np.linalg.norm(vec2)\n",
    "                cache[img2] = vec2\n",
    "            if img1 not in cache:\n",
    "                    cache[img1] = vec1\n",
    "            if img2 not in cache:\n",
    "                    cache[img2] = vec2\n",
    "            score = np.dot(vec1, vec2.T)[0][0]\n",
    "            with open(f\"./lmks/{race}_lmks.csv\", 'a') as f:\n",
    "                f.write(f\"{img1},{img2},{score},{sim}\\n\")\n",
    "        except Exception as e:\n",
    "            print(pair, e)\n",
    "            continue"
   ]
  }
 ],
 "metadata": {
  "kernelspec": {
   "display_name": "base",
   "language": "python",
   "name": "python3"
  },
  "language_info": {
   "codemirror_mode": {
    "name": "ipython",
    "version": 3
   },
   "file_extension": ".py",
   "mimetype": "text/x-python",
   "name": "python",
   "nbconvert_exporter": "python",
   "pygments_lexer": "ipython3",
   "version": "3.10.12"
  }
 },
 "nbformat": 4,
 "nbformat_minor": 2
}
