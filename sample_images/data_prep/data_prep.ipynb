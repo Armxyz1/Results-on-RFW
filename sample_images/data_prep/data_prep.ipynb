{
 "cells": [
  {
   "cell_type": "code",
   "execution_count": 7,
   "metadata": {},
   "outputs": [],
   "source": [
    "import os\n",
    "from shutil import copy2"
   ]
  },
  {
   "cell_type": "code",
   "execution_count": 8,
   "metadata": {},
   "outputs": [],
   "source": [
    "races = ['African','Asian','Caucasian','Indian']\n",
    "genders = ['Man', \"Woman\"]"
   ]
  },
  {
   "cell_type": "code",
   "execution_count": 9,
   "metadata": {},
   "outputs": [],
   "source": [
    "path = \"../test/data\""
   ]
  },
  {
   "cell_type": "code",
   "execution_count": 10,
   "metadata": {},
   "outputs": [],
   "source": [
    "for race in races:\n",
    "    for gender in genders:\n",
    "        os.makedirs(f\"{path}/{race}/{gender}\", exist_ok= True)\n",
    "        with open(f\"{race}_{gender}_images.csv\",'r') as f:\n",
    "            files = f.readlines()\n",
    "        files = [file.strip() for file in files]\n",
    "        for file in files:\n",
    "            os.makedirs(f\"{path}/{race}/{gender}/{file}\", exist_ok=True)\n",
    "            for fname in os.listdir(f\"{path}/{race}/{file}\"):\n",
    "                copy2(f\"{path}/{race}/{file}/{fname}\",f\"{path}/{race}/{gender}/{file}/{fname}\")\n"
   ]
  },
  {
   "cell_type": "code",
   "execution_count": 11,
   "metadata": {},
   "outputs": [],
   "source": [
    "for race in races:\n",
    "    os.makedirs(f'{path}/Just_Images/{race}',exist_ok=True)\n",
    "    for gender in genders:\n",
    "        os.makedirs(f'{path}/Just_Images/{race}/{gender}',exist_ok=True)"
   ]
  },
  {
   "cell_type": "code",
   "execution_count": 12,
   "metadata": {},
   "outputs": [],
   "source": [
    "for race in races:\n",
    "    for gender in genders:\n",
    "        init = f\"{path}/{race}/{gender}\"\n",
    "        final = f\"{path}/Just_Images/{race}/{gender}\"\n",
    "        for file in os.listdir(init):\n",
    "            for img in os.listdir(f'{init}/{file}'):\n",
    "                if img[-3:] == 'jpg':\n",
    "                    copy2(f'{init}/{file}/{img}', f'{final}/{img}')"
   ]
  }
 ],
 "metadata": {
  "kernelspec": {
   "display_name": "Python 3",
   "language": "python",
   "name": "python3"
  },
  "language_info": {
   "codemirror_mode": {
    "name": "ipython",
    "version": 3
   },
   "file_extension": ".py",
   "mimetype": "text/x-python",
   "name": "python",
   "nbconvert_exporter": "python",
   "pygments_lexer": "ipython3",
   "version": "3.10.12"
  }
 },
 "nbformat": 4,
 "nbformat_minor": 2
}
